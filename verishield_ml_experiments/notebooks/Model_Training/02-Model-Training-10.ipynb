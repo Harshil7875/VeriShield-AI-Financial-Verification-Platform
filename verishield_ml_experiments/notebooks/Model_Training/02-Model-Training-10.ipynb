{
 "cells": [
  {
   "cell_type": "code",
   "execution_count": 1,
   "metadata": {},
   "outputs": [
    {
     "name": "stdout",
     "output_type": "stream",
     "text": [
      "TensorFlow version: 2.16.2\n",
      "Is GPU available?: [PhysicalDevice(name='/physical_device:GPU:0', device_type='GPU')]\n"
     ]
    }
   ],
   "source": [
    "# 02-Model-Training-9.ipynb (Deep Learning Model Training Notebook 2)\n",
    "\n",
    "# ======================================================================\n",
    "# CELL 1: Imports and Environment Checks\n",
    "# ======================================================================\n",
    "import pandas as pd\n",
    "import numpy as np\n",
    "import os\n",
    "\n",
    "import tensorflow as tf\n",
    "from tensorflow import keras\n",
    "from tensorflow.keras import layers\n",
    "from tensorflow.keras import regularizers\n",
    "\n",
    "# For data splitting and preprocessing\n",
    "from sklearn.model_selection import train_test_split, StratifiedKFold\n",
    "from sklearn.preprocessing import LabelEncoder, StandardScaler\n",
    "from sklearn.metrics import classification_report, confusion_matrix, average_precision_score, roc_auc_score\n",
    "from imblearn.over_sampling import RandomOverSampler\n",
    "\n",
    "print(\"TensorFlow version:\", tf.__version__)\n",
    "print(\"Is GPU available?:\", tf.config.list_physical_devices('GPU'))"
   ]
  },
  {
   "cell_type": "code",
   "execution_count": 2,
   "metadata": {},
   "outputs": [
    {
     "name": "stdout",
     "output_type": "stream",
     "text": [
      "Data loaded. Shape: (1500000, 16)\n",
      "Columns: ['user_id', 'name', 'email', 'username', 'birthdate', 'gender', 'signup_ip', 'device_id', 'phone', 'country_code', 'created_at', 'burst_signup', 'fraud_label', 'email_domain', 'ip_count', 'num_fraud_biz_owned']\n"
     ]
    }
   ],
   "source": [
    "# ======================================================================\n",
    "# CELL 2: Load the synthetic data (Users, Enriched)\n",
    "# ======================================================================\n",
    "CSV_FILE = r\"/Users/harshil/Development/personal_projects/VeriShield-ML-Experiments/data_generators/synthetic_users_enriched.csv\"\n",
    "\n",
    "if not os.path.exists(CSV_FILE):\n",
    "    raise FileNotFoundError(f\"Cannot find '{CSV_FILE}'. Please run the data generator first.\")\n",
    "\n",
    "df_users = pd.read_csv(CSV_FILE)\n",
    "print(\"Data loaded. Shape:\", df_users.shape)\n",
    "print(\"Columns:\", df_users.columns.tolist())"
   ]
  },
  {
   "cell_type": "code",
   "execution_count": 3,
   "metadata": {},
   "outputs": [
    {
     "name": "stdout",
     "output_type": "stream",
     "text": [
      "\n",
      "=== Missing values per column ===\n",
      " user_id                    0\n",
      "name                   29837\n",
      "email                  29912\n",
      "username                   0\n",
      "birthdate                  0\n",
      "gender                     0\n",
      "signup_ip                  0\n",
      "device_id                  0\n",
      "phone                  30093\n",
      "country_code           37455\n",
      "created_at                 0\n",
      "burst_signup               0\n",
      "fraud_label                0\n",
      "email_domain               0\n",
      "ip_count                   0\n",
      "num_fraud_biz_owned        0\n",
      "dtype: int64\n",
      "\n",
      "Dropped 0 rows due to missing fraud_label.\n",
      "Now shape: (1500000, 16)\n",
      "\n",
      "=== Missing after fill ===\n",
      " user_id                0\n",
      "name                   0\n",
      "email                  0\n",
      "username               0\n",
      "birthdate              0\n",
      "gender                 0\n",
      "signup_ip              0\n",
      "device_id              0\n",
      "phone                  0\n",
      "country_code           0\n",
      "created_at             0\n",
      "burst_signup           0\n",
      "fraud_label            0\n",
      "email_domain           0\n",
      "ip_count               0\n",
      "num_fraud_biz_owned    0\n",
      "dtype: int64\n"
     ]
    }
   ],
   "source": [
    "# ======================================================================\n",
    "# CELL 3: Inspect and handle missing data\n",
    "# ======================================================================\n",
    "print(\"\\n=== Missing values per column ===\\n\", df_users.isnull().sum())\n",
    "\n",
    "initial_len = len(df_users)\n",
    "if 'fraud_label' not in df_users.columns:\n",
    "    raise ValueError(\"Missing 'fraud_label' in data; cannot proceed.\")\n",
    "\n",
    "# Ensure we only keep rows with a known label\n",
    "df_users.dropna(subset=['fraud_label'], inplace=True)\n",
    "after_drop_label_len = len(df_users)\n",
    "\n",
    "# Fill missing in typical string columns\n",
    "string_cols = ['name', 'email', 'username', 'phone', 'country_code', 'email_domain']\n",
    "for col in string_cols:\n",
    "    if col in df_users.columns:\n",
    "        df_users[col] = df_users[col].fillna(\"missing\")\n",
    "\n",
    "print(f\"\\nDropped {initial_len - after_drop_label_len} rows due to missing fraud_label.\")\n",
    "print(\"Now shape:\", df_users.shape)\n",
    "print(\"\\n=== Missing after fill ===\\n\", df_users.isnull().sum())"
   ]
  },
  {
   "cell_type": "code",
   "execution_count": 4,
   "metadata": {},
   "outputs": [
    {
     "name": "stdout",
     "output_type": "stream",
     "text": [
      "\n",
      "Features used: ['gender', 'phone_len', 'phone_suspicious', 'country_code_enc', 'ip_private', 'birth_year', 'signup_dayofyear', 'email_domain_enc', 'ip_count', 'num_fraud_biz_owned', 'device_collision', 'burst_signup_flag', 'synergy_burst_phone', 'multi_collision']\n",
      "Feature matrix shape: (1500000, 14)\n",
      "Target shape: (1500000,)\n"
     ]
    }
   ],
   "source": [
    "# ======================================================================\n",
    "# CELL 4: Feature Engineering\n",
    "# ======================================================================\n",
    "df = df_users.copy()\n",
    "\n",
    "# 1) Convert 'gender' to 0(F)/1(M)\n",
    "if 'gender' in df.columns:\n",
    "    df['gender'] = df['gender'].map({'F': 0, 'M': 1}).fillna(0)\n",
    "\n",
    "# 2) phone_len + phone_suspicious\n",
    "df['phone_len'] = df['phone'].apply(len)\n",
    "df['phone_suspicious'] = df['phone'].apply(\n",
    "    lambda x: 1 if any(s in x for s in [\"+999\", \"666-666\"]) else 0\n",
    ")\n",
    "\n",
    "# 3) country_code_enc\n",
    "if 'country_code' in df.columns:\n",
    "    le_country = LabelEncoder()\n",
    "    df['country_code_enc'] = le_country.fit_transform(df['country_code'].astype(str))\n",
    "else:\n",
    "    df['country_code_enc'] = 0\n",
    "\n",
    "# 4) ip_private\n",
    "if 'signup_ip' in df.columns:\n",
    "    df['ip_private'] = df['signup_ip'].apply(\n",
    "        lambda ip: 1 if ip.startswith(\"192.168\") or ip.startswith(\"10.\") else 0\n",
    "    )\n",
    "else:\n",
    "    df['ip_private'] = 0\n",
    "\n",
    "# 5) birth_year\n",
    "def extract_year(date_str):\n",
    "    try:\n",
    "        return int(date_str.split(\"-\")[0])\n",
    "    except:\n",
    "        return 1970\n",
    "df['birth_year'] = df['birthdate'].apply(extract_year)\n",
    "\n",
    "# 6) signup_dayofyear\n",
    "df['signup_dayofyear'] = pd.to_datetime(df['created_at'], errors='coerce').dt.dayofyear.fillna(0)\n",
    "\n",
    "# 7) email_domain_enc\n",
    "if 'email_domain' in df.columns:\n",
    "    le_domain = LabelEncoder()\n",
    "    df['email_domain_enc'] = le_domain.fit_transform(df['email_domain'].astype(str))\n",
    "else:\n",
    "    df['email_domain_enc'] = 0\n",
    "\n",
    "# 8) ip_count -> numeric\n",
    "df['ip_count'] = df['ip_count'].fillna(0).astype(int)\n",
    "\n",
    "# 9) num_fraud_biz_owned -> numeric\n",
    "df['num_fraud_biz_owned'] = df['num_fraud_biz_owned'].fillna(0).astype(int)\n",
    "\n",
    "# 10) optional device_id + burst_signup synergy (if you have them)\n",
    "if 'device_id' in df.columns:\n",
    "    # e.g., device collision count\n",
    "    dev_counts = df.groupby('device_id')['user_id'].transform('count')\n",
    "    df['device_collision'] = dev_counts\n",
    "else:\n",
    "    df['device_collision'] = 0\n",
    "\n",
    "if 'burst_signup' in df.columns:\n",
    "    df['burst_signup_flag'] = df['burst_signup'].astype(int)\n",
    "else:\n",
    "    df['burst_signup_flag'] = 0\n",
    "\n",
    "df['synergy_burst_phone'] = df['phone_suspicious'] * df['burst_signup_flag']\n",
    "df['multi_collision'] = ((df['ip_count'] > 2) & (df['device_collision'] > 1)).astype(int)\n",
    "\n",
    "# Finalize feature set\n",
    "target_col = 'fraud_label'\n",
    "y = df[target_col].values\n",
    "\n",
    "candidate_features = [\n",
    "    'gender', 'phone_len', 'phone_suspicious', 'country_code_enc',\n",
    "    'ip_private', 'birth_year', 'signup_dayofyear', 'email_domain_enc',\n",
    "    'ip_count', 'num_fraud_biz_owned', 'device_collision',\n",
    "    'burst_signup_flag', 'synergy_burst_phone', 'multi_collision'\n",
    "]\n",
    "feature_cols = [col for col in candidate_features if col in df.columns]\n",
    "X = df[feature_cols].values\n",
    "\n",
    "print(\"\\nFeatures used:\", feature_cols)\n",
    "print(\"Feature matrix shape:\", X.shape)\n",
    "print(\"Target shape:\", y.shape)"
   ]
  },
  {
   "cell_type": "code",
   "execution_count": 5,
   "metadata": {},
   "outputs": [
    {
     "name": "stdout",
     "output_type": "stream",
     "text": [
      "\n",
      "X_train shape: (1200000, 14) y_train shape: (1200000,)\n",
      "X_test shape: (300000, 14) y_test shape: (300000,)\n",
      "Number of features: 14\n"
     ]
    }
   ],
   "source": [
    "# ======================================================================\n",
    "# CELL 5: Train/Test Split\n",
    "# ======================================================================\n",
    "test_size = 0.2\n",
    "random_state = 42\n",
    "\n",
    "X_train, X_test, y_train, y_test = train_test_split(\n",
    "    X, y,\n",
    "    test_size=test_size,\n",
    "    random_state=random_state,\n",
    "    stratify=y\n",
    ")\n",
    "\n",
    "print(\"\\nX_train shape:\", X_train.shape, \"y_train shape:\", y_train.shape)\n",
    "print(\"X_test shape:\", X_test.shape, \"y_test shape:\", y_test.shape)\n",
    "\n",
    "# Scale\n",
    "scaler = StandardScaler()\n",
    "X_train_scaled = scaler.fit_transform(X_train)\n",
    "X_test_scaled = scaler.transform(X_test)\n",
    "print(\"Number of features:\", X_train_scaled.shape[1])"
   ]
  },
  {
   "cell_type": "code",
   "execution_count": 6,
   "metadata": {},
   "outputs": [
    {
     "name": "stdout",
     "output_type": "stream",
     "text": [
      "\n",
      "Original training set shape: (1200000, 14) Fraud ratio: 0.3821\n",
      "Resampled training set shape: (1482972, 14) Fraud ratio: 0.5000\n",
      "14\n"
     ]
    }
   ],
   "source": [
    "# ======================================================================\n",
    "# CELL 6: Imbalance Handling\n",
    "# ======================================================================\n",
    "ros = RandomOverSampler(random_state=42)\n",
    "X_train_res, y_train_res = ros.fit_resample(X_train_scaled, y_train)\n",
    "\n",
    "print(\"\\nOriginal training set shape:\", X_train_scaled.shape, \n",
    "      f\"Fraud ratio: {y_train.mean():.4f}\")\n",
    "print(\"Resampled training set shape:\", X_train_res.shape, \n",
    "      f\"Fraud ratio: {y_train_res.mean():.4f}\")\n",
    "\n",
    "# Alternatively, consider weighting or focal loss rather than oversampling.\n",
    "print(X_train_res.shape[1])"
   ]
  },
  {
   "cell_type": "code",
   "execution_count": 7,
   "metadata": {},
   "outputs": [
    {
     "name": "stderr",
     "output_type": "stream",
     "text": [
      "2025-01-18 18:10:54.508012: I metal_plugin/src/device/metal_device.cc:1154] Metal device set to: Apple M2 Pro\n",
      "2025-01-18 18:10:54.508041: I metal_plugin/src/device/metal_device.cc:296] systemMemory: 16.00 GB\n",
      "2025-01-18 18:10:54.508058: I metal_plugin/src/device/metal_device.cc:313] maxCacheSize: 5.33 GB\n",
      "2025-01-18 18:10:54.508080: I tensorflow/core/common_runtime/pluggable_device/pluggable_device_factory.cc:305] Could not identify NUMA node of platform GPU ID 0, defaulting to 0. Your kernel may not have been built with NUMA support.\n",
      "2025-01-18 18:10:54.508097: I tensorflow/core/common_runtime/pluggable_device/pluggable_device_factory.cc:271] Created TensorFlow device (/job:localhost/replica:0/task:0/device:GPU:0 with 0 MB memory) -> physical PluggableDevice (device: 0, name: METAL, pci bus id: <undefined>)\n"
     ]
    },
    {
     "data": {
      "text/html": [
       "<pre style=\"white-space:pre;overflow-x:auto;line-height:normal;font-family:Menlo,'DejaVu Sans Mono',consolas,'Courier New',monospace\"><span style=\"font-weight: bold\">Model: \"FraudDetectionNet\"</span>\n",
       "</pre>\n"
      ],
      "text/plain": [
       "\u001b[1mModel: \"FraudDetectionNet\"\u001b[0m\n"
      ]
     },
     "metadata": {},
     "output_type": "display_data"
    },
    {
     "data": {
      "text/html": [
       "<pre style=\"white-space:pre;overflow-x:auto;line-height:normal;font-family:Menlo,'DejaVu Sans Mono',consolas,'Courier New',monospace\">┏━━━━━━━━━━━━━━━━━━━━━━━━━━━━━━━━━┳━━━━━━━━━━━━━━━━━━━━━━━━┳━━━━━━━━━━━━━━━┓\n",
       "┃<span style=\"font-weight: bold\"> Layer (type)                    </span>┃<span style=\"font-weight: bold\"> Output Shape           </span>┃<span style=\"font-weight: bold\">       Param # </span>┃\n",
       "┡━━━━━━━━━━━━━━━━━━━━━━━━━━━━━━━━━╇━━━━━━━━━━━━━━━━━━━━━━━━╇━━━━━━━━━━━━━━━┩\n",
       "│ dense (<span style=\"color: #0087ff; text-decoration-color: #0087ff\">Dense</span>)                   │ (<span style=\"color: #00d7ff; text-decoration-color: #00d7ff\">None</span>, <span style=\"color: #00af00; text-decoration-color: #00af00\">128</span>)            │         <span style=\"color: #00af00; text-decoration-color: #00af00\">1,920</span> │\n",
       "├─────────────────────────────────┼────────────────────────┼───────────────┤\n",
       "│ dropout (<span style=\"color: #0087ff; text-decoration-color: #0087ff\">Dropout</span>)               │ (<span style=\"color: #00d7ff; text-decoration-color: #00d7ff\">None</span>, <span style=\"color: #00af00; text-decoration-color: #00af00\">128</span>)            │             <span style=\"color: #00af00; text-decoration-color: #00af00\">0</span> │\n",
       "├─────────────────────────────────┼────────────────────────┼───────────────┤\n",
       "│ dense_1 (<span style=\"color: #0087ff; text-decoration-color: #0087ff\">Dense</span>)                 │ (<span style=\"color: #00d7ff; text-decoration-color: #00d7ff\">None</span>, <span style=\"color: #00af00; text-decoration-color: #00af00\">128</span>)            │        <span style=\"color: #00af00; text-decoration-color: #00af00\">16,512</span> │\n",
       "├─────────────────────────────────┼────────────────────────┼───────────────┤\n",
       "│ dropout_1 (<span style=\"color: #0087ff; text-decoration-color: #0087ff\">Dropout</span>)             │ (<span style=\"color: #00d7ff; text-decoration-color: #00d7ff\">None</span>, <span style=\"color: #00af00; text-decoration-color: #00af00\">128</span>)            │             <span style=\"color: #00af00; text-decoration-color: #00af00\">0</span> │\n",
       "├─────────────────────────────────┼────────────────────────┼───────────────┤\n",
       "│ dense_2 (<span style=\"color: #0087ff; text-decoration-color: #0087ff\">Dense</span>)                 │ (<span style=\"color: #00d7ff; text-decoration-color: #00d7ff\">None</span>, <span style=\"color: #00af00; text-decoration-color: #00af00\">128</span>)            │        <span style=\"color: #00af00; text-decoration-color: #00af00\">16,512</span> │\n",
       "├─────────────────────────────────┼────────────────────────┼───────────────┤\n",
       "│ dropout_2 (<span style=\"color: #0087ff; text-decoration-color: #0087ff\">Dropout</span>)             │ (<span style=\"color: #00d7ff; text-decoration-color: #00d7ff\">None</span>, <span style=\"color: #00af00; text-decoration-color: #00af00\">128</span>)            │             <span style=\"color: #00af00; text-decoration-color: #00af00\">0</span> │\n",
       "├─────────────────────────────────┼────────────────────────┼───────────────┤\n",
       "│ dense_3 (<span style=\"color: #0087ff; text-decoration-color: #0087ff\">Dense</span>)                 │ (<span style=\"color: #00d7ff; text-decoration-color: #00d7ff\">None</span>, <span style=\"color: #00af00; text-decoration-color: #00af00\">128</span>)            │        <span style=\"color: #00af00; text-decoration-color: #00af00\">16,512</span> │\n",
       "├─────────────────────────────────┼────────────────────────┼───────────────┤\n",
       "│ dropout_3 (<span style=\"color: #0087ff; text-decoration-color: #0087ff\">Dropout</span>)             │ (<span style=\"color: #00d7ff; text-decoration-color: #00d7ff\">None</span>, <span style=\"color: #00af00; text-decoration-color: #00af00\">128</span>)            │             <span style=\"color: #00af00; text-decoration-color: #00af00\">0</span> │\n",
       "├─────────────────────────────────┼────────────────────────┼───────────────┤\n",
       "│ dense_4 (<span style=\"color: #0087ff; text-decoration-color: #0087ff\">Dense</span>)                 │ (<span style=\"color: #00d7ff; text-decoration-color: #00d7ff\">None</span>, <span style=\"color: #00af00; text-decoration-color: #00af00\">1</span>)              │           <span style=\"color: #00af00; text-decoration-color: #00af00\">129</span> │\n",
       "└─────────────────────────────────┴────────────────────────┴───────────────┘\n",
       "</pre>\n"
      ],
      "text/plain": [
       "┏━━━━━━━━━━━━━━━━━━━━━━━━━━━━━━━━━┳━━━━━━━━━━━━━━━━━━━━━━━━┳━━━━━━━━━━━━━━━┓\n",
       "┃\u001b[1m \u001b[0m\u001b[1mLayer (type)                   \u001b[0m\u001b[1m \u001b[0m┃\u001b[1m \u001b[0m\u001b[1mOutput Shape          \u001b[0m\u001b[1m \u001b[0m┃\u001b[1m \u001b[0m\u001b[1m      Param #\u001b[0m\u001b[1m \u001b[0m┃\n",
       "┡━━━━━━━━━━━━━━━━━━━━━━━━━━━━━━━━━╇━━━━━━━━━━━━━━━━━━━━━━━━╇━━━━━━━━━━━━━━━┩\n",
       "│ dense (\u001b[38;5;33mDense\u001b[0m)                   │ (\u001b[38;5;45mNone\u001b[0m, \u001b[38;5;34m128\u001b[0m)            │         \u001b[38;5;34m1,920\u001b[0m │\n",
       "├─────────────────────────────────┼────────────────────────┼───────────────┤\n",
       "│ dropout (\u001b[38;5;33mDropout\u001b[0m)               │ (\u001b[38;5;45mNone\u001b[0m, \u001b[38;5;34m128\u001b[0m)            │             \u001b[38;5;34m0\u001b[0m │\n",
       "├─────────────────────────────────┼────────────────────────┼───────────────┤\n",
       "│ dense_1 (\u001b[38;5;33mDense\u001b[0m)                 │ (\u001b[38;5;45mNone\u001b[0m, \u001b[38;5;34m128\u001b[0m)            │        \u001b[38;5;34m16,512\u001b[0m │\n",
       "├─────────────────────────────────┼────────────────────────┼───────────────┤\n",
       "│ dropout_1 (\u001b[38;5;33mDropout\u001b[0m)             │ (\u001b[38;5;45mNone\u001b[0m, \u001b[38;5;34m128\u001b[0m)            │             \u001b[38;5;34m0\u001b[0m │\n",
       "├─────────────────────────────────┼────────────────────────┼───────────────┤\n",
       "│ dense_2 (\u001b[38;5;33mDense\u001b[0m)                 │ (\u001b[38;5;45mNone\u001b[0m, \u001b[38;5;34m128\u001b[0m)            │        \u001b[38;5;34m16,512\u001b[0m │\n",
       "├─────────────────────────────────┼────────────────────────┼───────────────┤\n",
       "│ dropout_2 (\u001b[38;5;33mDropout\u001b[0m)             │ (\u001b[38;5;45mNone\u001b[0m, \u001b[38;5;34m128\u001b[0m)            │             \u001b[38;5;34m0\u001b[0m │\n",
       "├─────────────────────────────────┼────────────────────────┼───────────────┤\n",
       "│ dense_3 (\u001b[38;5;33mDense\u001b[0m)                 │ (\u001b[38;5;45mNone\u001b[0m, \u001b[38;5;34m128\u001b[0m)            │        \u001b[38;5;34m16,512\u001b[0m │\n",
       "├─────────────────────────────────┼────────────────────────┼───────────────┤\n",
       "│ dropout_3 (\u001b[38;5;33mDropout\u001b[0m)             │ (\u001b[38;5;45mNone\u001b[0m, \u001b[38;5;34m128\u001b[0m)            │             \u001b[38;5;34m0\u001b[0m │\n",
       "├─────────────────────────────────┼────────────────────────┼───────────────┤\n",
       "│ dense_4 (\u001b[38;5;33mDense\u001b[0m)                 │ (\u001b[38;5;45mNone\u001b[0m, \u001b[38;5;34m1\u001b[0m)              │           \u001b[38;5;34m129\u001b[0m │\n",
       "└─────────────────────────────────┴────────────────────────┴───────────────┘\n"
      ]
     },
     "metadata": {},
     "output_type": "display_data"
    },
    {
     "data": {
      "text/html": [
       "<pre style=\"white-space:pre;overflow-x:auto;line-height:normal;font-family:Menlo,'DejaVu Sans Mono',consolas,'Courier New',monospace\"><span style=\"font-weight: bold\"> Total params: </span><span style=\"color: #00af00; text-decoration-color: #00af00\">51,585</span> (201.50 KB)\n",
       "</pre>\n"
      ],
      "text/plain": [
       "\u001b[1m Total params: \u001b[0m\u001b[38;5;34m51,585\u001b[0m (201.50 KB)\n"
      ]
     },
     "metadata": {},
     "output_type": "display_data"
    },
    {
     "data": {
      "text/html": [
       "<pre style=\"white-space:pre;overflow-x:auto;line-height:normal;font-family:Menlo,'DejaVu Sans Mono',consolas,'Courier New',monospace\"><span style=\"font-weight: bold\"> Trainable params: </span><span style=\"color: #00af00; text-decoration-color: #00af00\">51,585</span> (201.50 KB)\n",
       "</pre>\n"
      ],
      "text/plain": [
       "\u001b[1m Trainable params: \u001b[0m\u001b[38;5;34m51,585\u001b[0m (201.50 KB)\n"
      ]
     },
     "metadata": {},
     "output_type": "display_data"
    },
    {
     "data": {
      "text/html": [
       "<pre style=\"white-space:pre;overflow-x:auto;line-height:normal;font-family:Menlo,'DejaVu Sans Mono',consolas,'Courier New',monospace\"><span style=\"font-weight: bold\"> Non-trainable params: </span><span style=\"color: #00af00; text-decoration-color: #00af00\">0</span> (0.00 B)\n",
       "</pre>\n"
      ],
      "text/plain": [
       "\u001b[1m Non-trainable params: \u001b[0m\u001b[38;5;34m0\u001b[0m (0.00 B)\n"
      ]
     },
     "metadata": {},
     "output_type": "display_data"
    }
   ],
   "source": [
    "# ======================================================================\n",
    "# CELL 7: Define Model w/ Additional Regularization\n",
    "# ======================================================================\n",
    "import tensorflow as tf\n",
    "from tensorflow import keras\n",
    "from tensorflow.keras import layers\n",
    "from tensorflow.keras import regularizers\n",
    "# import tensorflow_addons as tfa\n",
    "\n",
    "# Optionally: SigmoidFocalCrossEntropy for advanced imbalance\n",
    "# focal_loss = tfa.losses.SigmoidFocalCrossEntropy(gamma=2.0)\n",
    "\n",
    "model = keras.Sequential(name=\"FraudDetectionNet\")\n",
    "\n",
    "# Example: embedding-like approach if some columns are large cardinalities\n",
    "# For brevity, we'll do a normal MLP\n",
    "model.add(layers.Input(shape=(X_train_res.shape[1],)))\n",
    "\n",
    "# Possibly add more advanced architecture\n",
    "for i in range(4):\n",
    "    model.add(layers.Dense(128, activation='relu', \n",
    "                           kernel_regularizer=regularizers.l2(1e-5)))\n",
    "    model.add(layers.Dropout(0.3))\n",
    "\n",
    "model.add(layers.Dense(1, activation='sigmoid'))\n",
    "\n",
    "model.compile(\n",
    "    optimizer=keras.optimizers.Adam(learning_rate=1e-3),\n",
    "    # loss=focal_loss,  # if you prefer focal\n",
    "    loss='binary_crossentropy',\n",
    "    metrics=['accuracy']\n",
    ")\n",
    "\n",
    "model.summary()"
   ]
  },
  {
   "cell_type": "code",
   "execution_count": 8,
   "metadata": {},
   "outputs": [
    {
     "name": "stdout",
     "output_type": "stream",
     "text": [
      "Epoch 1/50\n"
     ]
    },
    {
     "name": "stderr",
     "output_type": "stream",
     "text": [
      "2025-01-18 18:11:15.726866: I tensorflow/core/grappler/optimizers/custom_graph_optimizer_registry.cc:117] Plugin optimizer for device_type GPU is enabled.\n"
     ]
    },
    {
     "name": "stdout",
     "output_type": "stream",
     "text": [
      "\u001b[1m2897/2897\u001b[0m \u001b[32m━━━━━━━━━━━━━━━━━━━━\u001b[0m\u001b[37m\u001b[0m \u001b[1m42s\u001b[0m 14ms/step - accuracy: 0.5579 - loss: 0.6967 - val_accuracy: 0.5684 - val_loss: 0.6832 - learning_rate: 0.0010\n",
      "Epoch 2/50\n",
      "\u001b[1m2897/2897\u001b[0m \u001b[32m━━━━━━━━━━━━━━━━━━━━\u001b[0m\u001b[37m\u001b[0m \u001b[1m40s\u001b[0m 14ms/step - accuracy: 0.5741 - loss: 0.6843 - val_accuracy: 0.5705 - val_loss: 0.6772 - learning_rate: 0.0010\n",
      "Epoch 3/50\n",
      "\u001b[1m2897/2897\u001b[0m \u001b[32m━━━━━━━━━━━━━━━━━━━━\u001b[0m\u001b[37m\u001b[0m \u001b[1m40s\u001b[0m 14ms/step - accuracy: 0.5742 - loss: 0.6834 - val_accuracy: 0.5682 - val_loss: 0.6913 - learning_rate: 0.0010\n",
      "Epoch 4/50\n",
      "\u001b[1m2897/2897\u001b[0m \u001b[32m━━━━━━━━━━━━━━━━━━━━\u001b[0m\u001b[37m\u001b[0m \u001b[1m41s\u001b[0m 14ms/step - accuracy: 0.5754 - loss: 0.6827 - val_accuracy: 0.5684 - val_loss: 0.6804 - learning_rate: 0.0010\n",
      "Epoch 5/50\n",
      "\u001b[1m2897/2897\u001b[0m \u001b[32m━━━━━━━━━━━━━━━━━━━━\u001b[0m\u001b[37m\u001b[0m \u001b[1m41s\u001b[0m 14ms/step - accuracy: 0.5770 - loss: 0.6819 - val_accuracy: 0.5684 - val_loss: 0.6812 - learning_rate: 5.0000e-04\n",
      "\n",
      "Training complete.\n"
     ]
    }
   ],
   "source": [
    "# ======================================================================\n",
    "# CELL 8: Training Configuration\n",
    "# ======================================================================\n",
    "callbacks_list = [\n",
    "    keras.callbacks.EarlyStopping(\n",
    "        monitor='val_loss',\n",
    "        patience=3,\n",
    "        restore_best_weights=True\n",
    "    ),\n",
    "    keras.callbacks.ReduceLROnPlateau(\n",
    "        monitor='val_loss',\n",
    "        factor=0.5,\n",
    "        patience=2,\n",
    "        min_lr=1e-6\n",
    "    )\n",
    "]\n",
    "\n",
    "epochs = 50\n",
    "batch_size = 512\n",
    "\n",
    "history = model.fit(\n",
    "    X_train_res, y_train_res,\n",
    "    validation_data=(X_test_scaled, y_test),\n",
    "    epochs=epochs,\n",
    "    batch_size=batch_size,\n",
    "    verbose=1,\n",
    "    callbacks=callbacks_list\n",
    ")\n",
    "\n",
    "print(\"\\nTraining complete.\")"
   ]
  },
  {
   "cell_type": "code",
   "execution_count": 9,
   "metadata": {},
   "outputs": [
    {
     "name": "stdout",
     "output_type": "stream",
     "text": [
      "Test Loss: 0.6772, Test Accuracy: 0.5705\n",
      "\u001b[1m586/586\u001b[0m \u001b[32m━━━━━━━━━━━━━━━━━━━━\u001b[0m\u001b[37m\u001b[0m \u001b[1m1s\u001b[0m 1ms/step\n",
      "\n",
      "Threshold=0.30 => Accuracy=0.3821, Precision=0.3821, Recall=1.0000, F1=0.5529\n",
      "Confusion Matrix:\n",
      " [[     0 185371]\n",
      " [     0 114629]]\n",
      "\n",
      "Threshold=0.40 => Accuracy=0.4030, Precision=0.3864, Recall=0.9560, F1=0.5503\n",
      "Confusion Matrix:\n",
      " [[ 11312 174059]\n",
      " [  5042 109587]]\n",
      "\n",
      "Threshold=0.50 => Accuracy=0.5705, Precision=0.4521, Recall=0.5853, F1=0.5102\n",
      "Confusion Matrix:\n",
      " [[104062  81309]\n",
      " [ 47533  67096]]\n",
      "\n",
      "Threshold=0.60 => Accuracy=0.6225, Precision=0.5944, Recall=0.0375, F1=0.0706\n",
      "Confusion Matrix:\n",
      " [[182434   2937]\n",
      " [110325   4304]]\n",
      "\n",
      "Threshold=0.70 => Accuracy=0.6179, Precision=0.0000, Recall=0.0000, F1=0.0000\n",
      "Confusion Matrix:\n",
      " [[185371      0]\n",
      " [114629      0]]\n",
      "\n",
      "Average Precision (AUC-PR) on test set: 0.4505\n",
      "ROC AUC on test set: 0.5812\n",
      "\n",
      "Training ended after 5 total epochs. Best val_loss epoch: 2\n",
      "Final Train Loss: 0.6819 | Final Val Loss: 0.6812\n"
     ]
    }
   ],
   "source": [
    "# ======================================================================\n",
    "# CELL 9: Evaluation\n",
    "# ======================================================================\n",
    "# Evaluate final model on test set\n",
    "test_loss, test_acc = model.evaluate(X_test_scaled, y_test, verbose=0)\n",
    "print(f\"Test Loss: {test_loss:.4f}, Test Accuracy: {test_acc:.4f}\")\n",
    "\n",
    "# Predict probabilities\n",
    "y_pred_prob = model.predict(X_test_scaled, batch_size=batch_size).ravel()\n",
    "\n",
    "# 9.1 Evaluate multiple thresholds\n",
    "def evaluate_threshold(thresh):\n",
    "    y_pred_t = (y_pred_prob >= thresh).astype(int)\n",
    "    acc = (y_pred_t == y_test).mean()\n",
    "    precision = 0\n",
    "    recall = 0\n",
    "    try:\n",
    "        from sklearn.metrics import precision_score, recall_score, f1_score\n",
    "        precision = precision_score(y_test, y_pred_t, zero_division=0)\n",
    "        recall = recall_score(y_test, y_pred_t, zero_division=0)\n",
    "        f1 = f1_score(y_test, y_pred_t, zero_division=0)\n",
    "    except:\n",
    "        f1 = 0\n",
    "\n",
    "    print(f\"\\nThreshold={thresh:.2f} => Accuracy={acc:.4f}, Precision={precision:.4f}, Recall={recall:.4f}, F1={f1:.4f}\")\n",
    "    print(\"Confusion Matrix:\\n\", confusion_matrix(y_test, y_pred_t))\n",
    "\n",
    "for thresh in [0.3, 0.4, 0.5, 0.6, 0.7]:\n",
    "    evaluate_threshold(thresh)\n",
    "\n",
    "# 9.2: Additional metrics\n",
    "ap_score = average_precision_score(y_test, y_pred_prob)\n",
    "roc_auc = roc_auc_score(y_test, y_pred_prob)\n",
    "\n",
    "print(f\"\\nAverage Precision (AUC-PR) on test set: {ap_score:.4f}\")\n",
    "print(f\"ROC AUC on test set: {roc_auc:.4f}\")\n",
    "\n",
    "# Summaries\n",
    "final_epoch = len(history.history['loss'])\n",
    "best_val_idx = np.argmin(history.history['val_loss'])\n",
    "print(f\"\\nTraining ended after {final_epoch} total epochs. Best val_loss epoch: {best_val_idx + 1}\")\n",
    "print(f\"Final Train Loss: {history.history['loss'][-1]:.4f} | Final Val Loss: {history.history['val_loss'][-1]:.4f}\")\n"
   ]
  }
 ],
 "metadata": {
  "kernelspec": {
   "display_name": "tf-metal-2",
   "language": "python",
   "name": "python3"
  },
  "language_info": {
   "codemirror_mode": {
    "name": "ipython",
    "version": 3
   },
   "file_extension": ".py",
   "mimetype": "text/x-python",
   "name": "python",
   "nbconvert_exporter": "python",
   "pygments_lexer": "ipython3",
   "version": "3.10.16"
  }
 },
 "nbformat": 4,
 "nbformat_minor": 2
}
