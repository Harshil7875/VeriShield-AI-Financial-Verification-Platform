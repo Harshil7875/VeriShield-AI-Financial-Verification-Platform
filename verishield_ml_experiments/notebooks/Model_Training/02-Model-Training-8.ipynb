{
 "cells": [
  {
   "cell_type": "code",
   "execution_count": 1,
   "metadata": {},
   "outputs": [
    {
     "name": "stdout",
     "output_type": "stream",
     "text": [
      "XGBoost default params: {'objective': 'binary:logistic', 'base_score': None, 'booster': None, 'colsample_bylevel': None, 'colsample_bynode': None, 'colsample_bytree': None, 'device': None, 'eval_metric': None, 'gamma': None, 'grow_policy': None, 'interaction_constraints': None, 'learning_rate': None, 'max_bin': None, 'max_cat_threshold': None, 'max_cat_to_onehot': None, 'max_delta_step': None, 'max_depth': None, 'max_leaves': None, 'min_child_weight': None, 'monotone_constraints': None, 'multi_strategy': None, 'n_jobs': None, 'num_parallel_tree': None, 'random_state': None, 'reg_alpha': None, 'reg_lambda': None, 'sampling_method': None, 'scale_pos_weight': None, 'subsample': None, 'tree_method': None, 'validate_parameters': None, 'verbosity': None}\n",
      "NumPy version: 1.26.4\n"
     ]
    }
   ],
   "source": [
    "# 02-Model-Training-8.ipynb\n",
    "# ======================================================================\n",
    "# CELL 1: Imports and Environment Checks\n",
    "# ======================================================================\n",
    "import pandas as pd\n",
    "import numpy as np\n",
    "import os\n",
    "import warnings\n",
    "warnings.filterwarnings('ignore', message='.*use_label_encoder*')\n",
    "\n",
    "# For model training\n",
    "from xgboost import XGBClassifier\n",
    "\n",
    "# For data splitting, preprocessing, and searching\n",
    "from sklearn.model_selection import train_test_split, RandomizedSearchCV, StratifiedKFold\n",
    "from sklearn.preprocessing import LabelEncoder, StandardScaler\n",
    "from sklearn.metrics import classification_report, confusion_matrix\n",
    "from sklearn.metrics import precision_recall_curve, auc, average_precision_score\n",
    "\n",
    "# For dealing with imbalance\n",
    "from imblearn.over_sampling import RandomOverSampler\n",
    "\n",
    "# Quick check\n",
    "xgb_temp_model = XGBClassifier()\n",
    "print(\"XGBoost default params:\", xgb_temp_model.get_xgb_params())\n",
    "print(\"NumPy version:\", np.__version__)"
   ]
  },
  {
   "cell_type": "code",
   "execution_count": 2,
   "metadata": {},
   "outputs": [
    {
     "name": "stdout",
     "output_type": "stream",
     "text": [
      "Data loaded. Shape: (1500000, 16)\n",
      "Columns: ['user_id', 'name', 'email', 'username', 'birthdate', 'gender', 'signup_ip', 'device_id', 'phone', 'country_code', 'created_at', 'burst_signup', 'fraud_label', 'email_domain', 'ip_count', 'num_fraud_biz_owned']\n"
     ]
    }
   ],
   "source": [
    "# ======================================================================\n",
    "# CELL 2: Load the synthetic data (Users, Enriched)\n",
    "# ======================================================================\n",
    "CSV_FILE = r\"/Users/harshil/Development/personal_projects/VeriShield-ML-Experiments/data_generators/synthetic_users_enriched.csv\"\n",
    "\n",
    "if not os.path.exists(CSV_FILE):\n",
    "    raise FileNotFoundError(f\"Cannot find '{CSV_FILE}'. Please run the data generator first.\")\n",
    "\n",
    "df_users = pd.read_csv(CSV_FILE)\n",
    "print(\"Data loaded. Shape:\", df_users.shape)\n",
    "print(\"Columns:\", df_users.columns.tolist())"
   ]
  },
  {
   "cell_type": "code",
   "execution_count": 3,
   "metadata": {},
   "outputs": [
    {
     "name": "stdout",
     "output_type": "stream",
     "text": [
      "\n",
      "=== Missing values per column ===\n",
      " user_id                    0\n",
      "name                   29837\n",
      "email                  29912\n",
      "username                   0\n",
      "birthdate                  0\n",
      "gender                     0\n",
      "signup_ip                  0\n",
      "device_id                  0\n",
      "phone                  30093\n",
      "country_code           37455\n",
      "created_at                 0\n",
      "burst_signup               0\n",
      "fraud_label                0\n",
      "email_domain               0\n",
      "ip_count                   0\n",
      "num_fraud_biz_owned        0\n",
      "dtype: int64\n",
      "\n",
      "Dropped 0 rows due to missing fraud_label.\n",
      "Now shape: (1500000, 16)\n",
      "\n",
      "=== Missing after fill ===\n",
      " user_id                0\n",
      "name                   0\n",
      "email                  0\n",
      "username               0\n",
      "birthdate              0\n",
      "gender                 0\n",
      "signup_ip              0\n",
      "device_id              0\n",
      "phone                  0\n",
      "country_code           0\n",
      "created_at             0\n",
      "burst_signup           0\n",
      "fraud_label            0\n",
      "email_domain           0\n",
      "ip_count               0\n",
      "num_fraud_biz_owned    0\n",
      "dtype: int64\n"
     ]
    }
   ],
   "source": [
    "# ======================================================================\n",
    "# CELL 3: Inspect and handle missing data\n",
    "# ======================================================================\n",
    "print(\"\\n=== Missing values per column ===\\n\", df_users.isnull().sum())\n",
    "\n",
    "initial_len = len(df_users)\n",
    "# Must have fraud_label\n",
    "if 'fraud_label' not in df_users.columns:\n",
    "    raise ValueError(\"Missing 'fraud_label' in data; cannot proceed.\")\n",
    "\n",
    "df_users.dropna(subset=['fraud_label'], inplace=True)\n",
    "after_drop_label_len = len(df_users)\n",
    "\n",
    "# Fill missing string columns with \"missing\"\n",
    "string_cols = ['name', 'email', 'username', 'phone', 'country_code', 'email_domain', 'device_id']\n",
    "for col in string_cols:\n",
    "    if col in df_users.columns:\n",
    "        df_users[col] = df_users[col].fillna(\"missing\")\n",
    "\n",
    "print(f\"\\nDropped {initial_len - after_drop_label_len} rows due to missing fraud_label.\")\n",
    "print(\"Now shape:\", df_users.shape)\n",
    "print(\"\\n=== Missing after fill ===\\n\", df_users.isnull().sum())"
   ]
  },
  {
   "cell_type": "code",
   "execution_count": 4,
   "metadata": {},
   "outputs": [
    {
     "name": "stdout",
     "output_type": "stream",
     "text": [
      "\n",
      "Feature columns used:\n",
      " ['gender', 'phone_len', 'phone_suspicious', 'country_code_enc', 'ip_private', 'birth_year', 'signup_dayofyear', 'email_domain_enc', 'ip_count', 'num_fraud_biz_owned', 'device_collision', 'burst_signup_flag', 'synergy_burst_phone', 'multi_collision']\n",
      "Feature matrix shape: (1500000, 14)\n",
      "Target shape: (1500000,)\n"
     ]
    }
   ],
   "source": [
    "# ======================================================================\n",
    "# CELL 4: Extra Feature Engineering\n",
    "# ======================================================================\n",
    "df = df_users.copy()\n",
    "\n",
    "# 1) Convert 'gender' to binary (0=F, 1=M). If missing, fallback to 0.\n",
    "if 'gender' in df.columns:\n",
    "    df['gender'] = df['gender'].map({'F': 0, 'M': 1}).fillna(0)\n",
    "\n",
    "# 2) Basic phone features\n",
    "df['phone_len'] = df['phone'].apply(len)\n",
    "df['phone_suspicious'] = df['phone'].apply(\n",
    "    lambda x: 1 if any(s in x for s in [\"+999\", \"666-666\"]) else 0\n",
    ")\n",
    "\n",
    "# 3) Encode 'country_code'\n",
    "if 'country_code' in df.columns:\n",
    "    le_country = LabelEncoder()\n",
    "    df['country_code_enc'] = le_country.fit_transform(df['country_code'].astype(str))\n",
    "else:\n",
    "    df['country_code_enc'] = 0  # fallback if missing\n",
    "\n",
    "# 4) IP-based private check\n",
    "if 'signup_ip' in df.columns:\n",
    "    df['ip_private'] = df['signup_ip'].apply(\n",
    "        lambda ip: 1 if ip.startswith(\"192.168\") or ip.startswith(\"10.\") else 0\n",
    "    )\n",
    "else:\n",
    "    df['ip_private'] = 0\n",
    "\n",
    "# 5) birth_year from birthdate\n",
    "def extract_year(date_str):\n",
    "    try:\n",
    "        return int(date_str.split(\"-\")[0])\n",
    "    except:\n",
    "        return 1970\n",
    "df['birth_year'] = df['birthdate'].apply(extract_year)\n",
    "\n",
    "# 6) day of year from created_at\n",
    "df['signup_dayofyear'] = pd.to_datetime(df['created_at'], errors='coerce').dt.dayofyear.fillna(0)\n",
    "\n",
    "# 7) email_domain as label-encoded\n",
    "if 'email_domain' in df.columns:\n",
    "    le_domain = LabelEncoder()\n",
    "    df['email_domain_enc'] = le_domain.fit_transform(df['email_domain'].astype(str))\n",
    "else:\n",
    "    df['email_domain_enc'] = 0\n",
    "\n",
    "# 8) ip_count -> numeric\n",
    "df['ip_count'] = df['ip_count'].fillna(0).astype(int)\n",
    "\n",
    "# 9) num_fraud_biz_owned -> numeric\n",
    "df['num_fraud_biz_owned'] = df['num_fraud_biz_owned'].fillna(0).astype(int)\n",
    "\n",
    "# 10) device collision count (similar to ip_count)\n",
    "# Count how many users share the same device_id\n",
    "if 'device_id' in df.columns:\n",
    "    device_counts = df.groupby('device_id')['user_id'].transform('count')\n",
    "    df['device_collision'] = device_counts.astype(int)\n",
    "else:\n",
    "    df['device_collision'] = 0\n",
    "\n",
    "# 11) burst_signup as numeric\n",
    "if 'burst_signup' in df.columns:\n",
    "    df['burst_signup_flag'] = df['burst_signup'].astype(int)\n",
    "else:\n",
    "    df['burst_signup_flag'] = 0\n",
    "\n",
    "# 12) synergy feature: phone_suspicious * burst_signup_flag\n",
    "# (detect suspicious phone usage within a suspicious time burst)\n",
    "df['synergy_burst_phone'] = df['phone_suspicious'] * df['burst_signup_flag']\n",
    "\n",
    "# 13) synergy feature: ip_count + device_collision\n",
    "# or a boolean if both exceed a threshold\n",
    "df['multi_collision'] = ((df['ip_count'] > 2) & (df['device_collision'] > 1)).astype(int)\n",
    "\n",
    "target_col = 'fraud_label'\n",
    "y = df[target_col].values\n",
    "\n",
    "# Extended feature set\n",
    "feature_cols = [\n",
    "    'gender',\n",
    "    'phone_len',\n",
    "    'phone_suspicious',\n",
    "    'country_code_enc',\n",
    "    'ip_private',\n",
    "    'birth_year',\n",
    "    'signup_dayofyear',\n",
    "    'email_domain_enc',\n",
    "    'ip_count',\n",
    "    'num_fraud_biz_owned',\n",
    "    'device_collision',\n",
    "    'burst_signup_flag',\n",
    "    'synergy_burst_phone',\n",
    "    'multi_collision'\n",
    "]\n",
    "# Filter only columns that exist in df\n",
    "feature_cols = [col for col in feature_cols if col in df.columns]\n",
    "\n",
    "X = df[feature_cols].values\n",
    "print(\"\\nFeature columns used:\\n\", feature_cols)\n",
    "print(\"Feature matrix shape:\", X.shape)\n",
    "print(\"Target shape:\", y.shape)"
   ]
  },
  {
   "cell_type": "code",
   "execution_count": 5,
   "metadata": {},
   "outputs": [
    {
     "name": "stdout",
     "output_type": "stream",
     "text": [
      "\n",
      "X_train shape: (1200000, 14) y_train shape: (1200000,)\n",
      "X_test shape: (300000, 14) y_test shape: (300000,)\n",
      "Number of features: 14\n"
     ]
    }
   ],
   "source": [
    "# ======================================================================\n",
    "# CELL 5: Train/Test Split and Scaling\n",
    "# ======================================================================\n",
    "test_size = 0.2\n",
    "random_state = 42\n",
    "\n",
    "X_train, X_test, y_train, y_test = train_test_split(\n",
    "    X, y,\n",
    "    test_size=test_size,\n",
    "    random_state=random_state,\n",
    "    stratify=y\n",
    ")\n",
    "\n",
    "print(\"\\nX_train shape:\", X_train.shape, \"y_train shape:\", y_train.shape)\n",
    "print(\"X_test shape:\", X_test.shape, \"y_test shape:\", y_test.shape)\n",
    "\n",
    "scaler = StandardScaler()\n",
    "X_train_scaled = scaler.fit_transform(X_train)\n",
    "X_test_scaled = scaler.transform(X_test)\n",
    "\n",
    "print(\"Number of features:\", X_test_scaled.shape[1])"
   ]
  },
  {
   "cell_type": "code",
   "execution_count": 6,
   "metadata": {},
   "outputs": [
    {
     "name": "stdout",
     "output_type": "stream",
     "text": [
      "\n",
      "Original training set shape: (1200000, 14) Fraud ratio: 0.3821\n",
      "Resampled training set shape: (1482972, 14) Fraud ratio: 0.5000\n"
     ]
    }
   ],
   "source": [
    "# ======================================================================\n",
    "# CELL 6: Imbalance Handling\n",
    "# ======================================================================\n",
    "ros = RandomOverSampler(random_state=42)\n",
    "X_train_res, y_train_res = ros.fit_resample(X_train_scaled, y_train)\n",
    "\n",
    "train_fraud_ratio = y_train.mean()\n",
    "print(\"\\nOriginal training set shape:\", X_train_scaled.shape, \n",
    "      f\"Fraud ratio: {train_fraud_ratio:.4f}\")\n",
    "\n",
    "res_fraud_ratio = y_train_res.mean()\n",
    "print(\"Resampled training set shape:\", X_train_res.shape, \n",
    "      f\"Fraud ratio: {res_fraud_ratio:.4f}\")\n",
    "\n",
    "# Alternatively, you might skip oversampling and rely on XGBoost's scale_pos_weight\n",
    "# scale_pos_weight = (1 - train_fraud_ratio) / train_fraud_ratio"
   ]
  },
  {
   "cell_type": "code",
   "execution_count": 7,
   "metadata": {},
   "outputs": [
    {
     "name": "stdout",
     "output_type": "stream",
     "text": [
      "Fitting 3 folds for each of 15 candidates, totalling 45 fits\n"
     ]
    },
    {
     "name": "stderr",
     "output_type": "stream",
     "text": [
      "/Users/harshil/miniconda3/envs/ml_env/lib/python3.11/site-packages/xgboost/core.py:158: UserWarning: [16:29:39] WARNING: /Users/runner/work/xgboost/xgboost/src/learner.cc:740: \n",
      "Parameters: { \"use_label_encoder\" } are not used.\n",
      "\n",
      "  warnings.warn(smsg, UserWarning)\n"
     ]
    },
    {
     "name": "stdout",
     "output_type": "stream",
     "text": [
      "[CV] END colsample_bytree=0.5, gamma=1, learning_rate=0.05, max_depth=4, min_child_weight=5, n_estimators=700, subsample=0.7; total time=   6.1s\n"
     ]
    },
    {
     "name": "stderr",
     "output_type": "stream",
     "text": [
      "/Users/harshil/miniconda3/envs/ml_env/lib/python3.11/site-packages/xgboost/core.py:158: UserWarning: [16:29:45] WARNING: /Users/runner/work/xgboost/xgboost/src/learner.cc:740: \n",
      "Parameters: { \"use_label_encoder\" } are not used.\n",
      "\n",
      "  warnings.warn(smsg, UserWarning)\n"
     ]
    },
    {
     "name": "stdout",
     "output_type": "stream",
     "text": [
      "[CV] END colsample_bytree=0.5, gamma=1, learning_rate=0.05, max_depth=4, min_child_weight=5, n_estimators=700, subsample=0.7; total time=   6.1s\n"
     ]
    },
    {
     "name": "stderr",
     "output_type": "stream",
     "text": [
      "/Users/harshil/miniconda3/envs/ml_env/lib/python3.11/site-packages/xgboost/core.py:158: UserWarning: [16:29:51] WARNING: /Users/runner/work/xgboost/xgboost/src/learner.cc:740: \n",
      "Parameters: { \"use_label_encoder\" } are not used.\n",
      "\n",
      "  warnings.warn(smsg, UserWarning)\n"
     ]
    },
    {
     "name": "stdout",
     "output_type": "stream",
     "text": [
      "[CV] END colsample_bytree=0.5, gamma=1, learning_rate=0.05, max_depth=4, min_child_weight=5, n_estimators=700, subsample=0.7; total time=   6.0s\n"
     ]
    },
    {
     "name": "stderr",
     "output_type": "stream",
     "text": [
      "/Users/harshil/miniconda3/envs/ml_env/lib/python3.11/site-packages/xgboost/core.py:158: UserWarning: [16:29:57] WARNING: /Users/runner/work/xgboost/xgboost/src/learner.cc:740: \n",
      "Parameters: { \"use_label_encoder\" } are not used.\n",
      "\n",
      "  warnings.warn(smsg, UserWarning)\n"
     ]
    },
    {
     "name": "stdout",
     "output_type": "stream",
     "text": [
      "[CV] END colsample_bytree=1.0, gamma=0, learning_rate=0.05, max_depth=6, min_child_weight=3, n_estimators=700, subsample=0.7; total time=   8.2s\n"
     ]
    },
    {
     "name": "stderr",
     "output_type": "stream",
     "text": [
      "/Users/harshil/miniconda3/envs/ml_env/lib/python3.11/site-packages/xgboost/core.py:158: UserWarning: [16:30:05] WARNING: /Users/runner/work/xgboost/xgboost/src/learner.cc:740: \n",
      "Parameters: { \"use_label_encoder\" } are not used.\n",
      "\n",
      "  warnings.warn(smsg, UserWarning)\n"
     ]
    },
    {
     "name": "stdout",
     "output_type": "stream",
     "text": [
      "[CV] END colsample_bytree=1.0, gamma=0, learning_rate=0.05, max_depth=6, min_child_weight=3, n_estimators=700, subsample=0.7; total time=   7.9s\n"
     ]
    },
    {
     "name": "stderr",
     "output_type": "stream",
     "text": [
      "/Users/harshil/miniconda3/envs/ml_env/lib/python3.11/site-packages/xgboost/core.py:158: UserWarning: [16:30:13] WARNING: /Users/runner/work/xgboost/xgboost/src/learner.cc:740: \n",
      "Parameters: { \"use_label_encoder\" } are not used.\n",
      "\n",
      "  warnings.warn(smsg, UserWarning)\n"
     ]
    },
    {
     "name": "stdout",
     "output_type": "stream",
     "text": [
      "[CV] END colsample_bytree=1.0, gamma=0, learning_rate=0.05, max_depth=6, min_child_weight=3, n_estimators=700, subsample=0.7; total time=   8.1s\n"
     ]
    },
    {
     "name": "stderr",
     "output_type": "stream",
     "text": [
      "/Users/harshil/miniconda3/envs/ml_env/lib/python3.11/site-packages/xgboost/core.py:158: UserWarning: [16:30:21] WARNING: /Users/runner/work/xgboost/xgboost/src/learner.cc:740: \n",
      "Parameters: { \"use_label_encoder\" } are not used.\n",
      "\n",
      "  warnings.warn(smsg, UserWarning)\n"
     ]
    },
    {
     "name": "stdout",
     "output_type": "stream",
     "text": [
      "[CV] END colsample_bytree=0.8, gamma=5, learning_rate=0.05, max_depth=3, min_child_weight=3, n_estimators=200, subsample=0.7; total time=   1.6s\n"
     ]
    },
    {
     "name": "stderr",
     "output_type": "stream",
     "text": [
      "/Users/harshil/miniconda3/envs/ml_env/lib/python3.11/site-packages/xgboost/core.py:158: UserWarning: [16:30:23] WARNING: /Users/runner/work/xgboost/xgboost/src/learner.cc:740: \n",
      "Parameters: { \"use_label_encoder\" } are not used.\n",
      "\n",
      "  warnings.warn(smsg, UserWarning)\n"
     ]
    },
    {
     "name": "stdout",
     "output_type": "stream",
     "text": [
      "[CV] END colsample_bytree=0.8, gamma=5, learning_rate=0.05, max_depth=3, min_child_weight=3, n_estimators=200, subsample=0.7; total time=   1.5s\n"
     ]
    },
    {
     "name": "stderr",
     "output_type": "stream",
     "text": [
      "/Users/harshil/miniconda3/envs/ml_env/lib/python3.11/site-packages/xgboost/core.py:158: UserWarning: [16:30:24] WARNING: /Users/runner/work/xgboost/xgboost/src/learner.cc:740: \n",
      "Parameters: { \"use_label_encoder\" } are not used.\n",
      "\n",
      "  warnings.warn(smsg, UserWarning)\n"
     ]
    },
    {
     "name": "stdout",
     "output_type": "stream",
     "text": [
      "[CV] END colsample_bytree=0.8, gamma=5, learning_rate=0.05, max_depth=3, min_child_weight=3, n_estimators=200, subsample=0.7; total time=   1.5s\n"
     ]
    },
    {
     "name": "stderr",
     "output_type": "stream",
     "text": [
      "/Users/harshil/miniconda3/envs/ml_env/lib/python3.11/site-packages/xgboost/core.py:158: UserWarning: [16:30:26] WARNING: /Users/runner/work/xgboost/xgboost/src/learner.cc:740: \n",
      "Parameters: { \"use_label_encoder\" } are not used.\n",
      "\n",
      "  warnings.warn(smsg, UserWarning)\n"
     ]
    },
    {
     "name": "stdout",
     "output_type": "stream",
     "text": [
      "[CV] END colsample_bytree=0.5, gamma=0, learning_rate=0.1, max_depth=4, min_child_weight=5, n_estimators=100, subsample=0.9; total time=   1.1s\n"
     ]
    },
    {
     "name": "stderr",
     "output_type": "stream",
     "text": [
      "/Users/harshil/miniconda3/envs/ml_env/lib/python3.11/site-packages/xgboost/core.py:158: UserWarning: [16:30:27] WARNING: /Users/runner/work/xgboost/xgboost/src/learner.cc:740: \n",
      "Parameters: { \"use_label_encoder\" } are not used.\n",
      "\n",
      "  warnings.warn(smsg, UserWarning)\n"
     ]
    },
    {
     "name": "stdout",
     "output_type": "stream",
     "text": [
      "[CV] END colsample_bytree=0.5, gamma=0, learning_rate=0.1, max_depth=4, min_child_weight=5, n_estimators=100, subsample=0.9; total time=   1.2s\n"
     ]
    },
    {
     "name": "stderr",
     "output_type": "stream",
     "text": [
      "/Users/harshil/miniconda3/envs/ml_env/lib/python3.11/site-packages/xgboost/core.py:158: UserWarning: [16:30:28] WARNING: /Users/runner/work/xgboost/xgboost/src/learner.cc:740: \n",
      "Parameters: { \"use_label_encoder\" } are not used.\n",
      "\n",
      "  warnings.warn(smsg, UserWarning)\n"
     ]
    },
    {
     "name": "stdout",
     "output_type": "stream",
     "text": [
      "[CV] END colsample_bytree=0.5, gamma=0, learning_rate=0.1, max_depth=4, min_child_weight=5, n_estimators=100, subsample=0.9; total time=   1.1s\n"
     ]
    },
    {
     "name": "stderr",
     "output_type": "stream",
     "text": [
      "/Users/harshil/miniconda3/envs/ml_env/lib/python3.11/site-packages/xgboost/core.py:158: UserWarning: [16:30:29] WARNING: /Users/runner/work/xgboost/xgboost/src/learner.cc:740: \n",
      "Parameters: { \"use_label_encoder\" } are not used.\n",
      "\n",
      "  warnings.warn(smsg, UserWarning)\n"
     ]
    },
    {
     "name": "stdout",
     "output_type": "stream",
     "text": [
      "[CV] END colsample_bytree=1.0, gamma=1, learning_rate=0.1, max_depth=3, min_child_weight=1, n_estimators=500, subsample=0.9; total time=   3.3s\n"
     ]
    },
    {
     "name": "stderr",
     "output_type": "stream",
     "text": [
      "/Users/harshil/miniconda3/envs/ml_env/lib/python3.11/site-packages/xgboost/core.py:158: UserWarning: [16:30:32] WARNING: /Users/runner/work/xgboost/xgboost/src/learner.cc:740: \n",
      "Parameters: { \"use_label_encoder\" } are not used.\n",
      "\n",
      "  warnings.warn(smsg, UserWarning)\n"
     ]
    },
    {
     "name": "stdout",
     "output_type": "stream",
     "text": [
      "[CV] END colsample_bytree=1.0, gamma=1, learning_rate=0.1, max_depth=3, min_child_weight=1, n_estimators=500, subsample=0.9; total time=   3.5s\n"
     ]
    },
    {
     "name": "stderr",
     "output_type": "stream",
     "text": [
      "/Users/harshil/miniconda3/envs/ml_env/lib/python3.11/site-packages/xgboost/core.py:158: UserWarning: [16:30:36] WARNING: /Users/runner/work/xgboost/xgboost/src/learner.cc:740: \n",
      "Parameters: { \"use_label_encoder\" } are not used.\n",
      "\n",
      "  warnings.warn(smsg, UserWarning)\n"
     ]
    },
    {
     "name": "stdout",
     "output_type": "stream",
     "text": [
      "[CV] END colsample_bytree=1.0, gamma=1, learning_rate=0.1, max_depth=3, min_child_weight=1, n_estimators=500, subsample=0.9; total time=   3.3s\n"
     ]
    },
    {
     "name": "stderr",
     "output_type": "stream",
     "text": [
      "/Users/harshil/miniconda3/envs/ml_env/lib/python3.11/site-packages/xgboost/core.py:158: UserWarning: [16:30:39] WARNING: /Users/runner/work/xgboost/xgboost/src/learner.cc:740: \n",
      "Parameters: { \"use_label_encoder\" } are not used.\n",
      "\n",
      "  warnings.warn(smsg, UserWarning)\n"
     ]
    },
    {
     "name": "stdout",
     "output_type": "stream",
     "text": [
      "[CV] END colsample_bytree=0.8, gamma=5, learning_rate=0.1, max_depth=8, min_child_weight=5, n_estimators=200, subsample=0.7; total time=   1.5s\n"
     ]
    },
    {
     "name": "stderr",
     "output_type": "stream",
     "text": [
      "/Users/harshil/miniconda3/envs/ml_env/lib/python3.11/site-packages/xgboost/core.py:158: UserWarning: [16:30:41] WARNING: /Users/runner/work/xgboost/xgboost/src/learner.cc:740: \n",
      "Parameters: { \"use_label_encoder\" } are not used.\n",
      "\n",
      "  warnings.warn(smsg, UserWarning)\n"
     ]
    },
    {
     "name": "stdout",
     "output_type": "stream",
     "text": [
      "[CV] END colsample_bytree=0.8, gamma=5, learning_rate=0.1, max_depth=8, min_child_weight=5, n_estimators=200, subsample=0.7; total time=   1.5s\n"
     ]
    },
    {
     "name": "stderr",
     "output_type": "stream",
     "text": [
      "/Users/harshil/miniconda3/envs/ml_env/lib/python3.11/site-packages/xgboost/core.py:158: UserWarning: [16:30:42] WARNING: /Users/runner/work/xgboost/xgboost/src/learner.cc:740: \n",
      "Parameters: { \"use_label_encoder\" } are not used.\n",
      "\n",
      "  warnings.warn(smsg, UserWarning)\n"
     ]
    },
    {
     "name": "stdout",
     "output_type": "stream",
     "text": [
      "[CV] END colsample_bytree=0.8, gamma=5, learning_rate=0.1, max_depth=8, min_child_weight=5, n_estimators=200, subsample=0.7; total time=   1.4s\n"
     ]
    },
    {
     "name": "stderr",
     "output_type": "stream",
     "text": [
      "/Users/harshil/miniconda3/envs/ml_env/lib/python3.11/site-packages/xgboost/core.py:158: UserWarning: [16:30:44] WARNING: /Users/runner/work/xgboost/xgboost/src/learner.cc:740: \n",
      "Parameters: { \"use_label_encoder\" } are not used.\n",
      "\n",
      "  warnings.warn(smsg, UserWarning)\n"
     ]
    },
    {
     "name": "stdout",
     "output_type": "stream",
     "text": [
      "[CV] END colsample_bytree=0.8, gamma=5, learning_rate=0.05, max_depth=6, min_child_weight=1, n_estimators=100, subsample=1.0; total time=   1.1s\n"
     ]
    },
    {
     "name": "stderr",
     "output_type": "stream",
     "text": [
      "/Users/harshil/miniconda3/envs/ml_env/lib/python3.11/site-packages/xgboost/core.py:158: UserWarning: [16:30:45] WARNING: /Users/runner/work/xgboost/xgboost/src/learner.cc:740: \n",
      "Parameters: { \"use_label_encoder\" } are not used.\n",
      "\n",
      "  warnings.warn(smsg, UserWarning)\n"
     ]
    },
    {
     "name": "stdout",
     "output_type": "stream",
     "text": [
      "[CV] END colsample_bytree=0.8, gamma=5, learning_rate=0.05, max_depth=6, min_child_weight=1, n_estimators=100, subsample=1.0; total time=   1.1s\n"
     ]
    },
    {
     "name": "stderr",
     "output_type": "stream",
     "text": [
      "/Users/harshil/miniconda3/envs/ml_env/lib/python3.11/site-packages/xgboost/core.py:158: UserWarning: [16:30:46] WARNING: /Users/runner/work/xgboost/xgboost/src/learner.cc:740: \n",
      "Parameters: { \"use_label_encoder\" } are not used.\n",
      "\n",
      "  warnings.warn(smsg, UserWarning)\n"
     ]
    },
    {
     "name": "stdout",
     "output_type": "stream",
     "text": [
      "[CV] END colsample_bytree=0.8, gamma=5, learning_rate=0.05, max_depth=6, min_child_weight=1, n_estimators=100, subsample=1.0; total time=   1.0s\n"
     ]
    },
    {
     "name": "stderr",
     "output_type": "stream",
     "text": [
      "/Users/harshil/miniconda3/envs/ml_env/lib/python3.11/site-packages/xgboost/core.py:158: UserWarning: [16:30:47] WARNING: /Users/runner/work/xgboost/xgboost/src/learner.cc:740: \n",
      "Parameters: { \"use_label_encoder\" } are not used.\n",
      "\n",
      "  warnings.warn(smsg, UserWarning)\n"
     ]
    },
    {
     "name": "stdout",
     "output_type": "stream",
     "text": [
      "[CV] END colsample_bytree=0.8, gamma=5, learning_rate=0.01, max_depth=3, min_child_weight=5, n_estimators=200, subsample=1.0; total time=   1.7s\n"
     ]
    },
    {
     "name": "stderr",
     "output_type": "stream",
     "text": [
      "/Users/harshil/miniconda3/envs/ml_env/lib/python3.11/site-packages/xgboost/core.py:158: UserWarning: [16:30:49] WARNING: /Users/runner/work/xgboost/xgboost/src/learner.cc:740: \n",
      "Parameters: { \"use_label_encoder\" } are not used.\n",
      "\n",
      "  warnings.warn(smsg, UserWarning)\n"
     ]
    },
    {
     "name": "stdout",
     "output_type": "stream",
     "text": [
      "[CV] END colsample_bytree=0.8, gamma=5, learning_rate=0.01, max_depth=3, min_child_weight=5, n_estimators=200, subsample=1.0; total time=   1.6s\n"
     ]
    },
    {
     "name": "stderr",
     "output_type": "stream",
     "text": [
      "/Users/harshil/miniconda3/envs/ml_env/lib/python3.11/site-packages/xgboost/core.py:158: UserWarning: [16:30:50] WARNING: /Users/runner/work/xgboost/xgboost/src/learner.cc:740: \n",
      "Parameters: { \"use_label_encoder\" } are not used.\n",
      "\n",
      "  warnings.warn(smsg, UserWarning)\n"
     ]
    },
    {
     "name": "stdout",
     "output_type": "stream",
     "text": [
      "[CV] END colsample_bytree=0.8, gamma=5, learning_rate=0.01, max_depth=3, min_child_weight=5, n_estimators=200, subsample=1.0; total time=   1.7s\n"
     ]
    },
    {
     "name": "stderr",
     "output_type": "stream",
     "text": [
      "/Users/harshil/miniconda3/envs/ml_env/lib/python3.11/site-packages/xgboost/core.py:158: UserWarning: [16:30:52] WARNING: /Users/runner/work/xgboost/xgboost/src/learner.cc:740: \n",
      "Parameters: { \"use_label_encoder\" } are not used.\n",
      "\n",
      "  warnings.warn(smsg, UserWarning)\n"
     ]
    },
    {
     "name": "stdout",
     "output_type": "stream",
     "text": [
      "[CV] END colsample_bytree=0.5, gamma=0, learning_rate=0.01, max_depth=6, min_child_weight=5, n_estimators=100, subsample=0.9; total time=   1.4s\n"
     ]
    },
    {
     "name": "stderr",
     "output_type": "stream",
     "text": [
      "/Users/harshil/miniconda3/envs/ml_env/lib/python3.11/site-packages/xgboost/core.py:158: UserWarning: [16:30:53] WARNING: /Users/runner/work/xgboost/xgboost/src/learner.cc:740: \n",
      "Parameters: { \"use_label_encoder\" } are not used.\n",
      "\n",
      "  warnings.warn(smsg, UserWarning)\n"
     ]
    },
    {
     "name": "stdout",
     "output_type": "stream",
     "text": [
      "[CV] END colsample_bytree=0.5, gamma=0, learning_rate=0.01, max_depth=6, min_child_weight=5, n_estimators=100, subsample=0.9; total time=   1.4s\n"
     ]
    },
    {
     "name": "stderr",
     "output_type": "stream",
     "text": [
      "/Users/harshil/miniconda3/envs/ml_env/lib/python3.11/site-packages/xgboost/core.py:158: UserWarning: [16:30:55] WARNING: /Users/runner/work/xgboost/xgboost/src/learner.cc:740: \n",
      "Parameters: { \"use_label_encoder\" } are not used.\n",
      "\n",
      "  warnings.warn(smsg, UserWarning)\n"
     ]
    },
    {
     "name": "stdout",
     "output_type": "stream",
     "text": [
      "[CV] END colsample_bytree=0.5, gamma=0, learning_rate=0.01, max_depth=6, min_child_weight=5, n_estimators=100, subsample=0.9; total time=   1.4s\n"
     ]
    },
    {
     "name": "stderr",
     "output_type": "stream",
     "text": [
      "/Users/harshil/miniconda3/envs/ml_env/lib/python3.11/site-packages/xgboost/core.py:158: UserWarning: [16:30:56] WARNING: /Users/runner/work/xgboost/xgboost/src/learner.cc:740: \n",
      "Parameters: { \"use_label_encoder\" } are not used.\n",
      "\n",
      "  warnings.warn(smsg, UserWarning)\n"
     ]
    },
    {
     "name": "stdout",
     "output_type": "stream",
     "text": [
      "[CV] END colsample_bytree=0.5, gamma=5, learning_rate=0.1, max_depth=8, min_child_weight=1, n_estimators=200, subsample=0.8; total time=   1.4s\n"
     ]
    },
    {
     "name": "stderr",
     "output_type": "stream",
     "text": [
      "/Users/harshil/miniconda3/envs/ml_env/lib/python3.11/site-packages/xgboost/core.py:158: UserWarning: [16:30:57] WARNING: /Users/runner/work/xgboost/xgboost/src/learner.cc:740: \n",
      "Parameters: { \"use_label_encoder\" } are not used.\n",
      "\n",
      "  warnings.warn(smsg, UserWarning)\n"
     ]
    },
    {
     "name": "stdout",
     "output_type": "stream",
     "text": [
      "[CV] END colsample_bytree=0.5, gamma=5, learning_rate=0.1, max_depth=8, min_child_weight=1, n_estimators=200, subsample=0.8; total time=   1.4s\n"
     ]
    },
    {
     "name": "stderr",
     "output_type": "stream",
     "text": [
      "/Users/harshil/miniconda3/envs/ml_env/lib/python3.11/site-packages/xgboost/core.py:158: UserWarning: [16:30:59] WARNING: /Users/runner/work/xgboost/xgboost/src/learner.cc:740: \n",
      "Parameters: { \"use_label_encoder\" } are not used.\n",
      "\n",
      "  warnings.warn(smsg, UserWarning)\n"
     ]
    },
    {
     "name": "stdout",
     "output_type": "stream",
     "text": [
      "[CV] END colsample_bytree=0.5, gamma=5, learning_rate=0.1, max_depth=8, min_child_weight=1, n_estimators=200, subsample=0.8; total time=   1.4s\n"
     ]
    },
    {
     "name": "stderr",
     "output_type": "stream",
     "text": [
      "/Users/harshil/miniconda3/envs/ml_env/lib/python3.11/site-packages/xgboost/core.py:158: UserWarning: [16:31:00] WARNING: /Users/runner/work/xgboost/xgboost/src/learner.cc:740: \n",
      "Parameters: { \"use_label_encoder\" } are not used.\n",
      "\n",
      "  warnings.warn(smsg, UserWarning)\n"
     ]
    },
    {
     "name": "stdout",
     "output_type": "stream",
     "text": [
      "[CV] END colsample_bytree=0.5, gamma=1, learning_rate=0.05, max_depth=3, min_child_weight=1, n_estimators=100, subsample=0.8; total time=   1.0s\n"
     ]
    },
    {
     "name": "stderr",
     "output_type": "stream",
     "text": [
      "/Users/harshil/miniconda3/envs/ml_env/lib/python3.11/site-packages/xgboost/core.py:158: UserWarning: [16:31:01] WARNING: /Users/runner/work/xgboost/xgboost/src/learner.cc:740: \n",
      "Parameters: { \"use_label_encoder\" } are not used.\n",
      "\n",
      "  warnings.warn(smsg, UserWarning)\n"
     ]
    },
    {
     "name": "stdout",
     "output_type": "stream",
     "text": [
      "[CV] END colsample_bytree=0.5, gamma=1, learning_rate=0.05, max_depth=3, min_child_weight=1, n_estimators=100, subsample=0.8; total time=   1.0s\n"
     ]
    },
    {
     "name": "stderr",
     "output_type": "stream",
     "text": [
      "/Users/harshil/miniconda3/envs/ml_env/lib/python3.11/site-packages/xgboost/core.py:158: UserWarning: [16:31:02] WARNING: /Users/runner/work/xgboost/xgboost/src/learner.cc:740: \n",
      "Parameters: { \"use_label_encoder\" } are not used.\n",
      "\n",
      "  warnings.warn(smsg, UserWarning)\n"
     ]
    },
    {
     "name": "stdout",
     "output_type": "stream",
     "text": [
      "[CV] END colsample_bytree=0.5, gamma=1, learning_rate=0.05, max_depth=3, min_child_weight=1, n_estimators=100, subsample=0.8; total time=   1.0s\n"
     ]
    },
    {
     "name": "stderr",
     "output_type": "stream",
     "text": [
      "/Users/harshil/miniconda3/envs/ml_env/lib/python3.11/site-packages/xgboost/core.py:158: UserWarning: [16:31:03] WARNING: /Users/runner/work/xgboost/xgboost/src/learner.cc:740: \n",
      "Parameters: { \"use_label_encoder\" } are not used.\n",
      "\n",
      "  warnings.warn(smsg, UserWarning)\n"
     ]
    },
    {
     "name": "stdout",
     "output_type": "stream",
     "text": [
      "[CV] END colsample_bytree=0.8, gamma=1, learning_rate=0.01, max_depth=4, min_child_weight=5, n_estimators=200, subsample=1.0; total time=   1.8s\n"
     ]
    },
    {
     "name": "stderr",
     "output_type": "stream",
     "text": [
      "/Users/harshil/miniconda3/envs/ml_env/lib/python3.11/site-packages/xgboost/core.py:158: UserWarning: [16:31:05] WARNING: /Users/runner/work/xgboost/xgboost/src/learner.cc:740: \n",
      "Parameters: { \"use_label_encoder\" } are not used.\n",
      "\n",
      "  warnings.warn(smsg, UserWarning)\n"
     ]
    },
    {
     "name": "stdout",
     "output_type": "stream",
     "text": [
      "[CV] END colsample_bytree=0.8, gamma=1, learning_rate=0.01, max_depth=4, min_child_weight=5, n_estimators=200, subsample=1.0; total time=   1.8s\n"
     ]
    },
    {
     "name": "stderr",
     "output_type": "stream",
     "text": [
      "/Users/harshil/miniconda3/envs/ml_env/lib/python3.11/site-packages/xgboost/core.py:158: UserWarning: [16:31:07] WARNING: /Users/runner/work/xgboost/xgboost/src/learner.cc:740: \n",
      "Parameters: { \"use_label_encoder\" } are not used.\n",
      "\n",
      "  warnings.warn(smsg, UserWarning)\n"
     ]
    },
    {
     "name": "stdout",
     "output_type": "stream",
     "text": [
      "[CV] END colsample_bytree=0.8, gamma=1, learning_rate=0.01, max_depth=4, min_child_weight=5, n_estimators=200, subsample=1.0; total time=   1.9s\n"
     ]
    },
    {
     "name": "stderr",
     "output_type": "stream",
     "text": [
      "/Users/harshil/miniconda3/envs/ml_env/lib/python3.11/site-packages/xgboost/core.py:158: UserWarning: [16:31:09] WARNING: /Users/runner/work/xgboost/xgboost/src/learner.cc:740: \n",
      "Parameters: { \"use_label_encoder\" } are not used.\n",
      "\n",
      "  warnings.warn(smsg, UserWarning)\n"
     ]
    },
    {
     "name": "stdout",
     "output_type": "stream",
     "text": [
      "[CV] END colsample_bytree=0.8, gamma=1, learning_rate=0.01, max_depth=6, min_child_weight=5, n_estimators=100, subsample=0.8; total time=   1.5s\n"
     ]
    },
    {
     "name": "stderr",
     "output_type": "stream",
     "text": [
      "/Users/harshil/miniconda3/envs/ml_env/lib/python3.11/site-packages/xgboost/core.py:158: UserWarning: [16:31:10] WARNING: /Users/runner/work/xgboost/xgboost/src/learner.cc:740: \n",
      "Parameters: { \"use_label_encoder\" } are not used.\n",
      "\n",
      "  warnings.warn(smsg, UserWarning)\n"
     ]
    },
    {
     "name": "stdout",
     "output_type": "stream",
     "text": [
      "[CV] END colsample_bytree=0.8, gamma=1, learning_rate=0.01, max_depth=6, min_child_weight=5, n_estimators=100, subsample=0.8; total time=   1.4s\n"
     ]
    },
    {
     "name": "stderr",
     "output_type": "stream",
     "text": [
      "/Users/harshil/miniconda3/envs/ml_env/lib/python3.11/site-packages/xgboost/core.py:158: UserWarning: [16:31:12] WARNING: /Users/runner/work/xgboost/xgboost/src/learner.cc:740: \n",
      "Parameters: { \"use_label_encoder\" } are not used.\n",
      "\n",
      "  warnings.warn(smsg, UserWarning)\n"
     ]
    },
    {
     "name": "stdout",
     "output_type": "stream",
     "text": [
      "[CV] END colsample_bytree=0.8, gamma=1, learning_rate=0.01, max_depth=6, min_child_weight=5, n_estimators=100, subsample=0.8; total time=   1.5s\n"
     ]
    },
    {
     "name": "stderr",
     "output_type": "stream",
     "text": [
      "/Users/harshil/miniconda3/envs/ml_env/lib/python3.11/site-packages/xgboost/core.py:158: UserWarning: [16:31:13] WARNING: /Users/runner/work/xgboost/xgboost/src/learner.cc:740: \n",
      "Parameters: { \"use_label_encoder\" } are not used.\n",
      "\n",
      "  warnings.warn(smsg, UserWarning)\n"
     ]
    },
    {
     "name": "stdout",
     "output_type": "stream",
     "text": [
      "[CV] END colsample_bytree=1.0, gamma=5, learning_rate=0.1, max_depth=4, min_child_weight=1, n_estimators=500, subsample=1.0; total time=   2.0s\n"
     ]
    },
    {
     "name": "stderr",
     "output_type": "stream",
     "text": [
      "/Users/harshil/miniconda3/envs/ml_env/lib/python3.11/site-packages/xgboost/core.py:158: UserWarning: [16:31:15] WARNING: /Users/runner/work/xgboost/xgboost/src/learner.cc:740: \n",
      "Parameters: { \"use_label_encoder\" } are not used.\n",
      "\n",
      "  warnings.warn(smsg, UserWarning)\n"
     ]
    },
    {
     "name": "stdout",
     "output_type": "stream",
     "text": [
      "[CV] END colsample_bytree=1.0, gamma=5, learning_rate=0.1, max_depth=4, min_child_weight=1, n_estimators=500, subsample=1.0; total time=   1.9s\n"
     ]
    },
    {
     "name": "stderr",
     "output_type": "stream",
     "text": [
      "/Users/harshil/miniconda3/envs/ml_env/lib/python3.11/site-packages/xgboost/core.py:158: UserWarning: [16:31:17] WARNING: /Users/runner/work/xgboost/xgboost/src/learner.cc:740: \n",
      "Parameters: { \"use_label_encoder\" } are not used.\n",
      "\n",
      "  warnings.warn(smsg, UserWarning)\n"
     ]
    },
    {
     "name": "stdout",
     "output_type": "stream",
     "text": [
      "[CV] END colsample_bytree=1.0, gamma=5, learning_rate=0.1, max_depth=4, min_child_weight=1, n_estimators=500, subsample=1.0; total time=   2.0s\n"
     ]
    },
    {
     "name": "stderr",
     "output_type": "stream",
     "text": [
      "/Users/harshil/miniconda3/envs/ml_env/lib/python3.11/site-packages/xgboost/core.py:158: UserWarning: [16:31:19] WARNING: /Users/runner/work/xgboost/xgboost/src/learner.cc:740: \n",
      "Parameters: { \"use_label_encoder\" } are not used.\n",
      "\n",
      "  warnings.warn(smsg, UserWarning)\n"
     ]
    },
    {
     "name": "stdout",
     "output_type": "stream",
     "text": [
      "[CV] END colsample_bytree=0.5, gamma=5, learning_rate=0.01, max_depth=3, min_child_weight=5, n_estimators=100, subsample=0.7; total time=   1.0s\n"
     ]
    },
    {
     "name": "stderr",
     "output_type": "stream",
     "text": [
      "/Users/harshil/miniconda3/envs/ml_env/lib/python3.11/site-packages/xgboost/core.py:158: UserWarning: [16:31:20] WARNING: /Users/runner/work/xgboost/xgboost/src/learner.cc:740: \n",
      "Parameters: { \"use_label_encoder\" } are not used.\n",
      "\n",
      "  warnings.warn(smsg, UserWarning)\n"
     ]
    },
    {
     "name": "stdout",
     "output_type": "stream",
     "text": [
      "[CV] END colsample_bytree=0.5, gamma=5, learning_rate=0.01, max_depth=3, min_child_weight=5, n_estimators=100, subsample=0.7; total time=   1.0s\n"
     ]
    },
    {
     "name": "stderr",
     "output_type": "stream",
     "text": [
      "/Users/harshil/miniconda3/envs/ml_env/lib/python3.11/site-packages/xgboost/core.py:158: UserWarning: [16:31:21] WARNING: /Users/runner/work/xgboost/xgboost/src/learner.cc:740: \n",
      "Parameters: { \"use_label_encoder\" } are not used.\n",
      "\n",
      "  warnings.warn(smsg, UserWarning)\n"
     ]
    },
    {
     "name": "stdout",
     "output_type": "stream",
     "text": [
      "[CV] END colsample_bytree=0.5, gamma=5, learning_rate=0.01, max_depth=3, min_child_weight=5, n_estimators=100, subsample=0.7; total time=   1.0s\n"
     ]
    },
    {
     "name": "stderr",
     "output_type": "stream",
     "text": [
      "/Users/harshil/miniconda3/envs/ml_env/lib/python3.11/site-packages/xgboost/core.py:158: UserWarning: [16:31:22] WARNING: /Users/runner/work/xgboost/xgboost/src/learner.cc:740: \n",
      "Parameters: { \"use_label_encoder\" } are not used.\n",
      "\n",
      "  warnings.warn(smsg, UserWarning)\n"
     ]
    },
    {
     "name": "stdout",
     "output_type": "stream",
     "text": [
      "\n",
      "=== RandomizedSearchCV Results ===\n",
      "Best Params: {'subsample': 0.7, 'n_estimators': 700, 'min_child_weight': 3, 'max_depth': 6, 'learning_rate': 0.05, 'gamma': 0, 'colsample_bytree': 1.0}\n",
      "Best Score: 0.5836619817415616\n"
     ]
    }
   ],
   "source": [
    "# ======================================================================\n",
    "# CELL 7.1: Hyperparameter Tuning (RandomizedSearchCV)\n",
    "# ======================================================================\n",
    "# We expand param_dist to handle more advanced hyperparams\n",
    "param_dist = {\n",
    "    'n_estimators': [100, 200, 500, 700],\n",
    "    'max_depth': [3, 4, 6, 8],\n",
    "    'learning_rate': [0.01, 0.05, 0.1],\n",
    "    'subsample': [0.7, 0.8, 0.9, 1.0],\n",
    "    'colsample_bytree': [0.5, 0.8, 1.0],\n",
    "    'min_child_weight': [1, 3, 5],\n",
    "    'gamma': [0, 1, 5],\n",
    "    # 'scale_pos_weight': [1, 2, 3] # Optional if skipping oversampling\n",
    "}\n",
    "\n",
    "xgb_random = XGBClassifier(\n",
    "    eval_metric='logloss',\n",
    "    use_label_encoder=False,\n",
    "    random_state=42\n",
    ")\n",
    "\n",
    "# We'll use 'average_precision' which is typically more telling in fraud contexts\n",
    "search = RandomizedSearchCV(\n",
    "    estimator=xgb_random,\n",
    "    param_distributions=param_dist,\n",
    "    n_iter=15,  # increased from 10 to 15\n",
    "    scoring='average_precision',\n",
    "    cv=StratifiedKFold(n_splits=3),  # better stratification\n",
    "    verbose=2,\n",
    "    random_state=42\n",
    ")\n",
    "\n",
    "search.fit(X_train_res, y_train_res)\n",
    "\n",
    "print(\"\\n=== RandomizedSearchCV Results ===\")\n",
    "print(\"Best Params:\", search.best_params_)\n",
    "print(\"Best Score:\", search.best_score_)\n",
    "\n",
    "best_xgb_params = search.best_params_"
   ]
  },
  {
   "cell_type": "code",
   "execution_count": 8,
   "metadata": {},
   "outputs": [],
   "source": [
    "# ======================================================================\n",
    "# CELL 7.2: Define Final XGBoost Model\n",
    "# ======================================================================\n",
    "# Optionally, you could set scale_pos_weight if not oversampling\n",
    "model = XGBClassifier(\n",
    "    **best_xgb_params,\n",
    "    eval_metric='logloss',\n",
    "    use_label_encoder=False,\n",
    "    random_state=42\n",
    ")"
   ]
  },
  {
   "cell_type": "code",
   "execution_count": 9,
   "metadata": {},
   "outputs": [
    {
     "name": "stdout",
     "output_type": "stream",
     "text": [
      "XGBoost default params: {'objective': 'binary:logistic', 'base_score': None, 'booster': None, 'colsample_bylevel': None, 'colsample_bynode': None, 'colsample_bytree': None, 'device': None, 'eval_metric': None, 'gamma': None, 'grow_policy': None, 'interaction_constraints': None, 'learning_rate': None, 'max_bin': None, 'max_cat_threshold': None, 'max_cat_to_onehot': None, 'max_delta_step': None, 'max_depth': None, 'max_leaves': None, 'min_child_weight': None, 'monotone_constraints': None, 'multi_strategy': None, 'n_jobs': None, 'num_parallel_tree': None, 'random_state': None, 'reg_alpha': None, 'reg_lambda': None, 'sampling_method': None, 'scale_pos_weight': None, 'subsample': None, 'tree_method': None, 'validate_parameters': None, 'verbosity': None}\n",
      "NumPy version: 1.26.4\n"
     ]
    }
   ],
   "source": [
    "# 02-Model-Training-7.ipynb\n",
    "\n",
    "# ======================================================================\n",
    "# CELL 1: Imports and Environment Checks\n",
    "# ======================================================================\n",
    "import pandas as pd\n",
    "import numpy as np\n",
    "import os\n",
    "import warnings\n",
    "warnings.filterwarnings('ignore', message='.*use_label_encoder*')\n",
    "\n",
    "\n",
    "# For model training\n",
    "from xgboost import XGBClassifier\n",
    "\n",
    "# For data splitting, preprocessing, and searching\n",
    "from sklearn.model_selection import train_test_split, RandomizedSearchCV\n",
    "from sklearn.preprocessing import LabelEncoder, StandardScaler\n",
    "from sklearn.metrics import classification_report, confusion_matrix\n",
    "from sklearn.metrics import precision_recall_curve, auc\n",
    "\n",
    "# For dealing with imbalance\n",
    "from imblearn.over_sampling import RandomOverSampler\n",
    "\n",
    "# Quick checks\n",
    "xgb_temp_model = XGBClassifier()\n",
    "print(\"XGBoost default params:\", xgb_temp_model.get_xgb_params())\n",
    "print(\"NumPy version:\", np.__version__)"
   ]
  },
  {
   "cell_type": "code",
   "execution_count": 10,
   "metadata": {},
   "outputs": [
    {
     "name": "stdout",
     "output_type": "stream",
     "text": [
      "Data loaded. Shape: (1500000, 16)\n",
      "Columns: ['user_id', 'name', 'email', 'username', 'birthdate', 'gender', 'signup_ip', 'device_id', 'phone', 'country_code', 'created_at', 'burst_signup', 'fraud_label', 'email_domain', 'ip_count', 'num_fraud_biz_owned']\n"
     ]
    }
   ],
   "source": [
    "# ======================================================================\n",
    "# CELL 2: Load the synthetic data (Users, Enriched)\n",
    "# ======================================================================\n",
    "CSV_FILE = r\"/Users/harshil/Development/personal_projects/VeriShield-ML-Experiments/data_generators/synthetic_users_enriched.csv\"\n",
    "\n",
    "if not os.path.exists(CSV_FILE):\n",
    "    raise FileNotFoundError(f\"Cannot find '{CSV_FILE}'. Please run the data generator first.\")\n",
    "\n",
    "df_users = pd.read_csv(CSV_FILE)\n",
    "print(\"Data loaded. Shape:\", df_users.shape)\n",
    "print(\"Columns:\", df_users.columns.tolist())"
   ]
  },
  {
   "cell_type": "code",
   "execution_count": 11,
   "metadata": {},
   "outputs": [
    {
     "name": "stdout",
     "output_type": "stream",
     "text": [
      "Missing values per column:\n",
      " user_id                    0\n",
      "name                   29837\n",
      "email                  29912\n",
      "username                   0\n",
      "birthdate                  0\n",
      "gender                     0\n",
      "signup_ip                  0\n",
      "device_id                  0\n",
      "phone                  30093\n",
      "country_code           37455\n",
      "created_at                 0\n",
      "burst_signup               0\n",
      "fraud_label                0\n",
      "email_domain               0\n",
      "ip_count                   0\n",
      "num_fraud_biz_owned        0\n",
      "dtype: int64\n",
      "Dropped 0 rows due to missing fraud_label.\n",
      "Now shape: (1500000, 16)\n",
      "Missing after fill:\n",
      " user_id                0\n",
      "name                   0\n",
      "email                  0\n",
      "username               0\n",
      "birthdate              0\n",
      "gender                 0\n",
      "signup_ip              0\n",
      "device_id              0\n",
      "phone                  0\n",
      "country_code           0\n",
      "created_at             0\n",
      "burst_signup           0\n",
      "fraud_label            0\n",
      "email_domain           0\n",
      "ip_count               0\n",
      "num_fraud_biz_owned    0\n",
      "dtype: int64\n"
     ]
    }
   ],
   "source": [
    "# ======================================================================\n",
    "# CELL 3: Inspect and handle missing data\n",
    "# ======================================================================\n",
    "print(\"Missing values per column:\\n\", df_users.isnull().sum())\n",
    "\n",
    "initial_len = len(df_users)\n",
    "df_users.dropna(subset=['fraud_label'], inplace=True)  # ensure we have a label\n",
    "after_drop_label_len = len(df_users)\n",
    "\n",
    "# Fill missing string columns with \"missing\"\n",
    "string_cols = ['name', 'email', 'username', 'phone', 'country_code', 'email_domain']\n",
    "for col in string_cols:\n",
    "    if col in df_users.columns:\n",
    "        df_users[col] = df_users[col].fillna(\"missing\")\n",
    "\n",
    "print(f\"Dropped {initial_len - after_drop_label_len} rows due to missing fraud_label.\")\n",
    "print(\"Now shape:\", df_users.shape)\n",
    "print(\"Missing after fill:\\n\", df_users.isnull().sum())"
   ]
  },
  {
   "cell_type": "code",
   "execution_count": 12,
   "metadata": {},
   "outputs": [
    {
     "name": "stdout",
     "output_type": "stream",
     "text": [
      "Feature matrix shape: (1500000, 10)\n",
      "Target shape: (1500000,)\n"
     ]
    }
   ],
   "source": [
    "# ======================================================================\n",
    "# CELL 4: Basic Feature Engineering\n",
    "# ======================================================================\n",
    "df = df_users.copy()\n",
    "\n",
    "# 1) Convert 'gender' to 0/1\n",
    "if 'gender' in df.columns:\n",
    "    df['gender'] = df['gender'].map({'F': 0, 'M': 1}).fillna(0)\n",
    "\n",
    "# 2) Phone length + suspicious phone\n",
    "df['phone_len'] = df['phone'].apply(len)\n",
    "df['phone_suspicious'] = df['phone'].apply(\n",
    "    lambda x: 1 if any(s in x for s in [\"+999\", \"666-666\"]) else 0\n",
    ")\n",
    "\n",
    "# 3) Encode 'country_code'\n",
    "if 'country_code' in df.columns:\n",
    "    le_country = LabelEncoder()\n",
    "    df['country_code_enc'] = le_country.fit_transform(df['country_code'].astype(str))\n",
    "\n",
    "# 4) IP-based private check\n",
    "df['ip_private'] = df['signup_ip'].apply(\n",
    "    lambda ip: 1 if ip.startswith(\"192.168\") or ip.startswith(\"10.\") else 0\n",
    ")\n",
    "\n",
    "# 5) birth_year\n",
    "def extract_year(date_str):\n",
    "    try:\n",
    "        return int(date_str.split(\"-\")[0])\n",
    "    except:\n",
    "        return 1970\n",
    "df['birth_year'] = df['birthdate'].apply(extract_year)\n",
    "\n",
    "# 6) day of year from created_at\n",
    "df['signup_dayofyear'] = pd.to_datetime(df['created_at'], errors='coerce').dt.dayofyear.fillna(0)\n",
    "\n",
    "# 7) email_domain as label-encoded\n",
    "if 'email_domain' in df.columns:\n",
    "    le_domain = LabelEncoder()\n",
    "    df['email_domain_enc'] = le_domain.fit_transform(df['email_domain'].astype(str))\n",
    "\n",
    "# 8) ip_count -> numeric\n",
    "df['ip_count'] = df['ip_count'].fillna(0).astype(int)\n",
    "\n",
    "# 9) num_fraud_biz_owned -> numeric\n",
    "df['num_fraud_biz_owned'] = df['num_fraud_biz_owned'].fillna(0).astype(int)\n",
    "\n",
    "target_col = 'fraud_label'\n",
    "y = df[target_col].values\n",
    "\n",
    "# Feature columns\n",
    "feature_cols = [\n",
    "    'gender',\n",
    "    'phone_len',\n",
    "    'phone_suspicious',\n",
    "    'country_code_enc',\n",
    "    'ip_private',\n",
    "    'birth_year',\n",
    "    'signup_dayofyear',\n",
    "    'email_domain_enc',\n",
    "    'ip_count',\n",
    "    'num_fraud_biz_owned'\n",
    "]\n",
    "X = df[feature_cols].values\n",
    "\n",
    "print(\"Feature matrix shape:\", X.shape)\n",
    "print(\"Target shape:\", y.shape)"
   ]
  },
  {
   "cell_type": "code",
   "execution_count": 13,
   "metadata": {},
   "outputs": [
    {
     "name": "stdout",
     "output_type": "stream",
     "text": [
      "X_train shape: (1200000, 10) y_train shape: (1200000,)\n",
      "X_test shape: (300000, 10) y_test shape: (300000,)\n",
      "Number of features: 10\n"
     ]
    }
   ],
   "source": [
    "# ======================================================================\n",
    "# CELL 5: Train/Test Split and Scaling\n",
    "# ======================================================================\n",
    "test_size = 0.2\n",
    "random_state = 42\n",
    "\n",
    "X_train, X_test, y_train, y_test = train_test_split(\n",
    "    X, y,\n",
    "    test_size=test_size,\n",
    "    random_state=random_state,\n",
    "    stratify=y\n",
    ")\n",
    "\n",
    "print(\"X_train shape:\", X_train.shape, \"y_train shape:\", y_train.shape)\n",
    "print(\"X_test shape:\", X_test.shape, \"y_test shape:\", y_test.shape)\n",
    "\n",
    "scaler = StandardScaler()\n",
    "X_train_scaled = scaler.fit_transform(X_train)\n",
    "X_test_scaled = scaler.transform(X_test)\n",
    "\n",
    "print(\"Number of features:\", X_test_scaled.shape[1])"
   ]
  },
  {
   "cell_type": "code",
   "execution_count": 14,
   "metadata": {},
   "outputs": [
    {
     "name": "stdout",
     "output_type": "stream",
     "text": [
      "Original training set shape: (1200000, 10) Fraud ratio: 0.382095\n",
      "Resampled training set shape: (1482972, 10) Fraud ratio: 0.5\n"
     ]
    }
   ],
   "source": [
    "# ======================================================================\n",
    "# CELL 6: Oversampling\n",
    "# ======================================================================\n",
    "ros = RandomOverSampler(random_state=42)\n",
    "X_train_res, y_train_res = ros.fit_resample(X_train_scaled, y_train)\n",
    "\n",
    "print(\"Original training set shape:\", X_train_scaled.shape, \"Fraud ratio:\", y_train.mean())\n",
    "print(\"Resampled training set shape:\", X_train_res.shape, \"Fraud ratio:\", y_train_res.mean())\n",
    "\n",
    "# ----------------------------------------------------------------------\n",
    "# OPTIONAL: Instead of oversampling, you could remove it and use:\n",
    "# scale_pos_weight = (1 - fraud_ratio) / fraud_ratio\n",
    "# in the XGBClassifier constructor. But we'll continue oversampling here.\n",
    "# ----------------------------------------------------------------------\n",
    "\n"
   ]
  },
  {
   "cell_type": "code",
   "execution_count": 15,
   "metadata": {},
   "outputs": [
    {
     "name": "stdout",
     "output_type": "stream",
     "text": [
      "Fitting 3 folds for each of 10 candidates, totalling 30 fits\n"
     ]
    },
    {
     "name": "stderr",
     "output_type": "stream",
     "text": [
      "/Users/harshil/miniconda3/envs/ml_env/lib/python3.11/site-packages/xgboost/core.py:158: UserWarning: [16:31:40] WARNING: /Users/runner/work/xgboost/xgboost/src/learner.cc:740: \n",
      "Parameters: { \"use_label_encoder\" } are not used.\n",
      "\n",
      "  warnings.warn(smsg, UserWarning)\n"
     ]
    },
    {
     "name": "stdout",
     "output_type": "stream",
     "text": [
      "[CV] END colsample_bytree=0.5, learning_rate=0.01, max_depth=8, n_estimators=700, subsample=0.8; total time=  10.2s\n"
     ]
    },
    {
     "name": "stderr",
     "output_type": "stream",
     "text": [
      "/Users/harshil/miniconda3/envs/ml_env/lib/python3.11/site-packages/xgboost/core.py:158: UserWarning: [16:31:50] WARNING: /Users/runner/work/xgboost/xgboost/src/learner.cc:740: \n",
      "Parameters: { \"use_label_encoder\" } are not used.\n",
      "\n",
      "  warnings.warn(smsg, UserWarning)\n"
     ]
    },
    {
     "name": "stdout",
     "output_type": "stream",
     "text": [
      "[CV] END colsample_bytree=0.5, learning_rate=0.01, max_depth=8, n_estimators=700, subsample=0.8; total time=  10.1s\n"
     ]
    },
    {
     "name": "stderr",
     "output_type": "stream",
     "text": [
      "/Users/harshil/miniconda3/envs/ml_env/lib/python3.11/site-packages/xgboost/core.py:158: UserWarning: [16:32:00] WARNING: /Users/runner/work/xgboost/xgboost/src/learner.cc:740: \n",
      "Parameters: { \"use_label_encoder\" } are not used.\n",
      "\n",
      "  warnings.warn(smsg, UserWarning)\n"
     ]
    },
    {
     "name": "stdout",
     "output_type": "stream",
     "text": [
      "[CV] END colsample_bytree=0.5, learning_rate=0.01, max_depth=8, n_estimators=700, subsample=0.8; total time=   9.8s\n"
     ]
    },
    {
     "name": "stderr",
     "output_type": "stream",
     "text": [
      "/Users/harshil/miniconda3/envs/ml_env/lib/python3.11/site-packages/xgboost/core.py:158: UserWarning: [16:32:10] WARNING: /Users/runner/work/xgboost/xgboost/src/learner.cc:740: \n",
      "Parameters: { \"use_label_encoder\" } are not used.\n",
      "\n",
      "  warnings.warn(smsg, UserWarning)\n"
     ]
    },
    {
     "name": "stdout",
     "output_type": "stream",
     "text": [
      "[CV] END colsample_bytree=0.5, learning_rate=0.01, max_depth=4, n_estimators=700, subsample=0.8; total time=   5.8s\n"
     ]
    },
    {
     "name": "stderr",
     "output_type": "stream",
     "text": [
      "/Users/harshil/miniconda3/envs/ml_env/lib/python3.11/site-packages/xgboost/core.py:158: UserWarning: [16:32:15] WARNING: /Users/runner/work/xgboost/xgboost/src/learner.cc:740: \n",
      "Parameters: { \"use_label_encoder\" } are not used.\n",
      "\n",
      "  warnings.warn(smsg, UserWarning)\n"
     ]
    },
    {
     "name": "stdout",
     "output_type": "stream",
     "text": [
      "[CV] END colsample_bytree=0.5, learning_rate=0.01, max_depth=4, n_estimators=700, subsample=0.8; total time=   5.7s\n"
     ]
    },
    {
     "name": "stderr",
     "output_type": "stream",
     "text": [
      "/Users/harshil/miniconda3/envs/ml_env/lib/python3.11/site-packages/xgboost/core.py:158: UserWarning: [16:32:21] WARNING: /Users/runner/work/xgboost/xgboost/src/learner.cc:740: \n",
      "Parameters: { \"use_label_encoder\" } are not used.\n",
      "\n",
      "  warnings.warn(smsg, UserWarning)\n"
     ]
    },
    {
     "name": "stdout",
     "output_type": "stream",
     "text": [
      "[CV] END colsample_bytree=0.5, learning_rate=0.01, max_depth=4, n_estimators=700, subsample=0.8; total time=   6.0s\n"
     ]
    },
    {
     "name": "stderr",
     "output_type": "stream",
     "text": [
      "/Users/harshil/miniconda3/envs/ml_env/lib/python3.11/site-packages/xgboost/core.py:158: UserWarning: [16:32:27] WARNING: /Users/runner/work/xgboost/xgboost/src/learner.cc:740: \n",
      "Parameters: { \"use_label_encoder\" } are not used.\n",
      "\n",
      "  warnings.warn(smsg, UserWarning)\n"
     ]
    },
    {
     "name": "stdout",
     "output_type": "stream",
     "text": [
      "[CV] END colsample_bytree=0.8, learning_rate=0.1, max_depth=6, n_estimators=700, subsample=1.0; total time=   6.9s\n"
     ]
    },
    {
     "name": "stderr",
     "output_type": "stream",
     "text": [
      "/Users/harshil/miniconda3/envs/ml_env/lib/python3.11/site-packages/xgboost/core.py:158: UserWarning: [16:32:34] WARNING: /Users/runner/work/xgboost/xgboost/src/learner.cc:740: \n",
      "Parameters: { \"use_label_encoder\" } are not used.\n",
      "\n",
      "  warnings.warn(smsg, UserWarning)\n"
     ]
    },
    {
     "name": "stdout",
     "output_type": "stream",
     "text": [
      "[CV] END colsample_bytree=0.8, learning_rate=0.1, max_depth=6, n_estimators=700, subsample=1.0; total time=   6.7s\n"
     ]
    },
    {
     "name": "stderr",
     "output_type": "stream",
     "text": [
      "/Users/harshil/miniconda3/envs/ml_env/lib/python3.11/site-packages/xgboost/core.py:158: UserWarning: [16:32:41] WARNING: /Users/runner/work/xgboost/xgboost/src/learner.cc:740: \n",
      "Parameters: { \"use_label_encoder\" } are not used.\n",
      "\n",
      "  warnings.warn(smsg, UserWarning)\n"
     ]
    },
    {
     "name": "stdout",
     "output_type": "stream",
     "text": [
      "[CV] END colsample_bytree=0.8, learning_rate=0.1, max_depth=6, n_estimators=700, subsample=1.0; total time=   6.8s\n"
     ]
    },
    {
     "name": "stderr",
     "output_type": "stream",
     "text": [
      "/Users/harshil/miniconda3/envs/ml_env/lib/python3.11/site-packages/xgboost/core.py:158: UserWarning: [16:32:48] WARNING: /Users/runner/work/xgboost/xgboost/src/learner.cc:740: \n",
      "Parameters: { \"use_label_encoder\" } are not used.\n",
      "\n",
      "  warnings.warn(smsg, UserWarning)\n"
     ]
    },
    {
     "name": "stdout",
     "output_type": "stream",
     "text": [
      "[CV] END colsample_bytree=1.0, learning_rate=0.1, max_depth=6, n_estimators=700, subsample=0.9; total time=   8.1s\n"
     ]
    },
    {
     "name": "stderr",
     "output_type": "stream",
     "text": [
      "/Users/harshil/miniconda3/envs/ml_env/lib/python3.11/site-packages/xgboost/core.py:158: UserWarning: [16:32:56] WARNING: /Users/runner/work/xgboost/xgboost/src/learner.cc:740: \n",
      "Parameters: { \"use_label_encoder\" } are not used.\n",
      "\n",
      "  warnings.warn(smsg, UserWarning)\n"
     ]
    },
    {
     "name": "stdout",
     "output_type": "stream",
     "text": [
      "[CV] END colsample_bytree=1.0, learning_rate=0.1, max_depth=6, n_estimators=700, subsample=0.9; total time=   8.1s\n"
     ]
    },
    {
     "name": "stderr",
     "output_type": "stream",
     "text": [
      "/Users/harshil/miniconda3/envs/ml_env/lib/python3.11/site-packages/xgboost/core.py:158: UserWarning: [16:33:04] WARNING: /Users/runner/work/xgboost/xgboost/src/learner.cc:740: \n",
      "Parameters: { \"use_label_encoder\" } are not used.\n",
      "\n",
      "  warnings.warn(smsg, UserWarning)\n"
     ]
    },
    {
     "name": "stdout",
     "output_type": "stream",
     "text": [
      "[CV] END colsample_bytree=1.0, learning_rate=0.1, max_depth=6, n_estimators=700, subsample=0.9; total time=   8.5s\n"
     ]
    },
    {
     "name": "stderr",
     "output_type": "stream",
     "text": [
      "/Users/harshil/miniconda3/envs/ml_env/lib/python3.11/site-packages/xgboost/core.py:158: UserWarning: [16:33:12] WARNING: /Users/runner/work/xgboost/xgboost/src/learner.cc:740: \n",
      "Parameters: { \"use_label_encoder\" } are not used.\n",
      "\n",
      "  warnings.warn(smsg, UserWarning)\n"
     ]
    },
    {
     "name": "stdout",
     "output_type": "stream",
     "text": [
      "[CV] END colsample_bytree=1.0, learning_rate=0.1, max_depth=8, n_estimators=500, subsample=0.9; total time=   7.8s\n"
     ]
    },
    {
     "name": "stderr",
     "output_type": "stream",
     "text": [
      "/Users/harshil/miniconda3/envs/ml_env/lib/python3.11/site-packages/xgboost/core.py:158: UserWarning: [16:33:20] WARNING: /Users/runner/work/xgboost/xgboost/src/learner.cc:740: \n",
      "Parameters: { \"use_label_encoder\" } are not used.\n",
      "\n",
      "  warnings.warn(smsg, UserWarning)\n"
     ]
    },
    {
     "name": "stdout",
     "output_type": "stream",
     "text": [
      "[CV] END colsample_bytree=1.0, learning_rate=0.1, max_depth=8, n_estimators=500, subsample=0.9; total time=   7.3s\n"
     ]
    },
    {
     "name": "stderr",
     "output_type": "stream",
     "text": [
      "/Users/harshil/miniconda3/envs/ml_env/lib/python3.11/site-packages/xgboost/core.py:158: UserWarning: [16:33:27] WARNING: /Users/runner/work/xgboost/xgboost/src/learner.cc:740: \n",
      "Parameters: { \"use_label_encoder\" } are not used.\n",
      "\n",
      "  warnings.warn(smsg, UserWarning)\n"
     ]
    },
    {
     "name": "stdout",
     "output_type": "stream",
     "text": [
      "[CV] END colsample_bytree=1.0, learning_rate=0.1, max_depth=8, n_estimators=500, subsample=0.9; total time=   7.5s\n"
     ]
    },
    {
     "name": "stderr",
     "output_type": "stream",
     "text": [
      "/Users/harshil/miniconda3/envs/ml_env/lib/python3.11/site-packages/xgboost/core.py:158: UserWarning: [16:33:35] WARNING: /Users/runner/work/xgboost/xgboost/src/learner.cc:740: \n",
      "Parameters: { \"use_label_encoder\" } are not used.\n",
      "\n",
      "  warnings.warn(smsg, UserWarning)\n"
     ]
    },
    {
     "name": "stdout",
     "output_type": "stream",
     "text": [
      "[CV] END colsample_bytree=1.0, learning_rate=0.01, max_depth=6, n_estimators=500, subsample=0.9; total time=   6.1s\n"
     ]
    },
    {
     "name": "stderr",
     "output_type": "stream",
     "text": [
      "/Users/harshil/miniconda3/envs/ml_env/lib/python3.11/site-packages/xgboost/core.py:158: UserWarning: [16:33:41] WARNING: /Users/runner/work/xgboost/xgboost/src/learner.cc:740: \n",
      "Parameters: { \"use_label_encoder\" } are not used.\n",
      "\n",
      "  warnings.warn(smsg, UserWarning)\n"
     ]
    },
    {
     "name": "stdout",
     "output_type": "stream",
     "text": [
      "[CV] END colsample_bytree=1.0, learning_rate=0.01, max_depth=6, n_estimators=500, subsample=0.9; total time=   6.4s\n"
     ]
    },
    {
     "name": "stderr",
     "output_type": "stream",
     "text": [
      "/Users/harshil/miniconda3/envs/ml_env/lib/python3.11/site-packages/xgboost/core.py:158: UserWarning: [16:33:47] WARNING: /Users/runner/work/xgboost/xgboost/src/learner.cc:740: \n",
      "Parameters: { \"use_label_encoder\" } are not used.\n",
      "\n",
      "  warnings.warn(smsg, UserWarning)\n"
     ]
    },
    {
     "name": "stdout",
     "output_type": "stream",
     "text": [
      "[CV] END colsample_bytree=1.0, learning_rate=0.01, max_depth=6, n_estimators=500, subsample=0.9; total time=   7.6s\n"
     ]
    },
    {
     "name": "stderr",
     "output_type": "stream",
     "text": [
      "/Users/harshil/miniconda3/envs/ml_env/lib/python3.11/site-packages/xgboost/core.py:158: UserWarning: [16:33:55] WARNING: /Users/runner/work/xgboost/xgboost/src/learner.cc:740: \n",
      "Parameters: { \"use_label_encoder\" } are not used.\n",
      "\n",
      "  warnings.warn(smsg, UserWarning)\n"
     ]
    },
    {
     "name": "stdout",
     "output_type": "stream",
     "text": [
      "[CV] END colsample_bytree=1.0, learning_rate=0.05, max_depth=8, n_estimators=700, subsample=1.0; total time=   9.9s\n"
     ]
    },
    {
     "name": "stderr",
     "output_type": "stream",
     "text": [
      "/Users/harshil/miniconda3/envs/ml_env/lib/python3.11/site-packages/xgboost/core.py:158: UserWarning: [16:34:05] WARNING: /Users/runner/work/xgboost/xgboost/src/learner.cc:740: \n",
      "Parameters: { \"use_label_encoder\" } are not used.\n",
      "\n",
      "  warnings.warn(smsg, UserWarning)\n"
     ]
    },
    {
     "name": "stdout",
     "output_type": "stream",
     "text": [
      "[CV] END colsample_bytree=1.0, learning_rate=0.05, max_depth=8, n_estimators=700, subsample=1.0; total time=   9.4s\n"
     ]
    },
    {
     "name": "stderr",
     "output_type": "stream",
     "text": [
      "/Users/harshil/miniconda3/envs/ml_env/lib/python3.11/site-packages/xgboost/core.py:158: UserWarning: [16:34:14] WARNING: /Users/runner/work/xgboost/xgboost/src/learner.cc:740: \n",
      "Parameters: { \"use_label_encoder\" } are not used.\n",
      "\n",
      "  warnings.warn(smsg, UserWarning)\n"
     ]
    },
    {
     "name": "stdout",
     "output_type": "stream",
     "text": [
      "[CV] END colsample_bytree=1.0, learning_rate=0.05, max_depth=8, n_estimators=700, subsample=1.0; total time=   9.6s\n"
     ]
    },
    {
     "name": "stderr",
     "output_type": "stream",
     "text": [
      "/Users/harshil/miniconda3/envs/ml_env/lib/python3.11/site-packages/xgboost/core.py:158: UserWarning: [16:34:24] WARNING: /Users/runner/work/xgboost/xgboost/src/learner.cc:740: \n",
      "Parameters: { \"use_label_encoder\" } are not used.\n",
      "\n",
      "  warnings.warn(smsg, UserWarning)\n"
     ]
    },
    {
     "name": "stdout",
     "output_type": "stream",
     "text": [
      "[CV] END colsample_bytree=0.8, learning_rate=0.1, max_depth=6, n_estimators=700, subsample=0.8; total time=   8.5s\n"
     ]
    },
    {
     "name": "stderr",
     "output_type": "stream",
     "text": [
      "/Users/harshil/miniconda3/envs/ml_env/lib/python3.11/site-packages/xgboost/core.py:158: UserWarning: [16:34:32] WARNING: /Users/runner/work/xgboost/xgboost/src/learner.cc:740: \n",
      "Parameters: { \"use_label_encoder\" } are not used.\n",
      "\n",
      "  warnings.warn(smsg, UserWarning)\n"
     ]
    },
    {
     "name": "stdout",
     "output_type": "stream",
     "text": [
      "[CV] END colsample_bytree=0.8, learning_rate=0.1, max_depth=6, n_estimators=700, subsample=0.8; total time=   8.2s\n"
     ]
    },
    {
     "name": "stderr",
     "output_type": "stream",
     "text": [
      "/Users/harshil/miniconda3/envs/ml_env/lib/python3.11/site-packages/xgboost/core.py:158: UserWarning: [16:34:41] WARNING: /Users/runner/work/xgboost/xgboost/src/learner.cc:740: \n",
      "Parameters: { \"use_label_encoder\" } are not used.\n",
      "\n",
      "  warnings.warn(smsg, UserWarning)\n"
     ]
    },
    {
     "name": "stdout",
     "output_type": "stream",
     "text": [
      "[CV] END colsample_bytree=0.8, learning_rate=0.1, max_depth=6, n_estimators=700, subsample=0.8; total time=   8.0s\n"
     ]
    },
    {
     "name": "stderr",
     "output_type": "stream",
     "text": [
      "/Users/harshil/miniconda3/envs/ml_env/lib/python3.11/site-packages/xgboost/core.py:158: UserWarning: [16:34:49] WARNING: /Users/runner/work/xgboost/xgboost/src/learner.cc:740: \n",
      "Parameters: { \"use_label_encoder\" } are not used.\n",
      "\n",
      "  warnings.warn(smsg, UserWarning)\n"
     ]
    },
    {
     "name": "stdout",
     "output_type": "stream",
     "text": [
      "[CV] END colsample_bytree=0.5, learning_rate=0.01, max_depth=6, n_estimators=200, subsample=0.8; total time=   2.6s\n"
     ]
    },
    {
     "name": "stderr",
     "output_type": "stream",
     "text": [
      "/Users/harshil/miniconda3/envs/ml_env/lib/python3.11/site-packages/xgboost/core.py:158: UserWarning: [16:34:51] WARNING: /Users/runner/work/xgboost/xgboost/src/learner.cc:740: \n",
      "Parameters: { \"use_label_encoder\" } are not used.\n",
      "\n",
      "  warnings.warn(smsg, UserWarning)\n"
     ]
    },
    {
     "name": "stdout",
     "output_type": "stream",
     "text": [
      "[CV] END colsample_bytree=0.5, learning_rate=0.01, max_depth=6, n_estimators=200, subsample=0.8; total time=   2.6s\n"
     ]
    },
    {
     "name": "stderr",
     "output_type": "stream",
     "text": [
      "/Users/harshil/miniconda3/envs/ml_env/lib/python3.11/site-packages/xgboost/core.py:158: UserWarning: [16:34:54] WARNING: /Users/runner/work/xgboost/xgboost/src/learner.cc:740: \n",
      "Parameters: { \"use_label_encoder\" } are not used.\n",
      "\n",
      "  warnings.warn(smsg, UserWarning)\n"
     ]
    },
    {
     "name": "stdout",
     "output_type": "stream",
     "text": [
      "[CV] END colsample_bytree=0.5, learning_rate=0.01, max_depth=6, n_estimators=200, subsample=0.8; total time=   2.8s\n"
     ]
    },
    {
     "name": "stderr",
     "output_type": "stream",
     "text": [
      "/Users/harshil/miniconda3/envs/ml_env/lib/python3.11/site-packages/xgboost/core.py:158: UserWarning: [16:34:57] WARNING: /Users/runner/work/xgboost/xgboost/src/learner.cc:740: \n",
      "Parameters: { \"use_label_encoder\" } are not used.\n",
      "\n",
      "  warnings.warn(smsg, UserWarning)\n"
     ]
    },
    {
     "name": "stdout",
     "output_type": "stream",
     "text": [
      "[CV] END colsample_bytree=0.8, learning_rate=0.05, max_depth=4, n_estimators=500, subsample=1.0; total time=   4.8s\n"
     ]
    },
    {
     "name": "stderr",
     "output_type": "stream",
     "text": [
      "/Users/harshil/miniconda3/envs/ml_env/lib/python3.11/site-packages/xgboost/core.py:158: UserWarning: [16:35:01] WARNING: /Users/runner/work/xgboost/xgboost/src/learner.cc:740: \n",
      "Parameters: { \"use_label_encoder\" } are not used.\n",
      "\n",
      "  warnings.warn(smsg, UserWarning)\n"
     ]
    },
    {
     "name": "stdout",
     "output_type": "stream",
     "text": [
      "[CV] END colsample_bytree=0.8, learning_rate=0.05, max_depth=4, n_estimators=500, subsample=1.0; total time=   4.8s\n"
     ]
    },
    {
     "name": "stderr",
     "output_type": "stream",
     "text": [
      "/Users/harshil/miniconda3/envs/ml_env/lib/python3.11/site-packages/xgboost/core.py:158: UserWarning: [16:35:06] WARNING: /Users/runner/work/xgboost/xgboost/src/learner.cc:740: \n",
      "Parameters: { \"use_label_encoder\" } are not used.\n",
      "\n",
      "  warnings.warn(smsg, UserWarning)\n"
     ]
    },
    {
     "name": "stdout",
     "output_type": "stream",
     "text": [
      "[CV] END colsample_bytree=0.8, learning_rate=0.05, max_depth=4, n_estimators=500, subsample=1.0; total time=   4.4s\n"
     ]
    },
    {
     "name": "stderr",
     "output_type": "stream",
     "text": [
      "/Users/harshil/miniconda3/envs/ml_env/lib/python3.11/site-packages/xgboost/core.py:158: UserWarning: [16:35:11] WARNING: /Users/runner/work/xgboost/xgboost/src/learner.cc:740: \n",
      "Parameters: { \"use_label_encoder\" } are not used.\n",
      "\n",
      "  warnings.warn(smsg, UserWarning)\n"
     ]
    },
    {
     "name": "stdout",
     "output_type": "stream",
     "text": [
      "\n",
      "=== RandomizedSearchCV Results ===\n",
      "Best Params: {'subsample': 0.9, 'n_estimators': 500, 'max_depth': 8, 'learning_rate': 0.1, 'colsample_bytree': 1.0}\n",
      "Best Score: 0.591870525144888\n"
     ]
    }
   ],
   "source": [
    "# ======================================================================\n",
    "# CELL 7.1: Optional Hyperparameter Tuning (RandomizedSearchCV)\n",
    "# ======================================================================\n",
    "# This step can help find better hyperparams quickly vs. manual setting\n",
    "\n",
    "# QUICK EXAMPLE: Adjust n_estimators, max_depth, learning_rate\n",
    "param_dist = {\n",
    "    'n_estimators': [200, 500, 700],\n",
    "    'max_depth': [4, 6, 8],\n",
    "    'learning_rate': [0.01, 0.05, 0.1],\n",
    "    'subsample': [0.8, 0.9, 1.0],\n",
    "    'colsample_bytree': [0.5, 0.8, 1.0]\n",
    "}\n",
    "\n",
    "xgb_random = XGBClassifier(\n",
    "    eval_metric='logloss',\n",
    "    use_label_encoder=False,      # avoids label encoder warning\n",
    "    random_state=42\n",
    ")\n",
    "\n",
    "# Here we search for improved hyperparams\n",
    "search = RandomizedSearchCV(\n",
    "    estimator=xgb_random,\n",
    "    param_distributions=param_dist,\n",
    "    n_iter=10,                 # number of parameter settings tried\n",
    "    scoring='f1',             # or 'roc_auc' or 'average_precision'\n",
    "    cv=3,                     # do 3-fold cross validation\n",
    "    verbose=2,\n",
    "    random_state=42\n",
    ")\n",
    "\n",
    "# We'll fit on oversampled data to keep consistent\n",
    "search.fit(X_train_res, y_train_res)\n",
    "\n",
    "print(\"\\n=== RandomizedSearchCV Results ===\")\n",
    "print(\"Best Params:\", search.best_params_)\n",
    "print(\"Best Score:\", search.best_score_)\n",
    "\n",
    "# We'll define the best model from search\n",
    "best_xgb_params = search.best_params_\n",
    "# You can incorporate early_stopping_rounds in the final model if desired"
   ]
  },
  {
   "cell_type": "code",
   "execution_count": 16,
   "metadata": {},
   "outputs": [
    {
     "name": "stdout",
     "output_type": "stream",
     "text": [
      "[0]\tvalidation_0-logloss:0.69103\n",
      "[1]\tvalidation_0-logloss:0.68932\n",
      "[2]\tvalidation_0-logloss:0.68793\n",
      "[3]\tvalidation_0-logloss:0.68680\n",
      "[4]\tvalidation_0-logloss:0.68590\n"
     ]
    },
    {
     "name": "stderr",
     "output_type": "stream",
     "text": [
      "/Users/harshil/miniconda3/envs/ml_env/lib/python3.11/site-packages/xgboost/core.py:158: UserWarning: [16:35:21] WARNING: /Users/runner/work/xgboost/xgboost/src/learner.cc:740: \n",
      "Parameters: { \"use_label_encoder\" } are not used.\n",
      "\n",
      "  warnings.warn(smsg, UserWarning)\n"
     ]
    },
    {
     "name": "stdout",
     "output_type": "stream",
     "text": [
      "[5]\tvalidation_0-logloss:0.68517\n",
      "[6]\tvalidation_0-logloss:0.68459\n",
      "[7]\tvalidation_0-logloss:0.68410\n",
      "[8]\tvalidation_0-logloss:0.68372\n",
      "[9]\tvalidation_0-logloss:0.68341\n",
      "[10]\tvalidation_0-logloss:0.68314\n",
      "[11]\tvalidation_0-logloss:0.68293\n",
      "[12]\tvalidation_0-logloss:0.68276\n",
      "[13]\tvalidation_0-logloss:0.68264\n",
      "[14]\tvalidation_0-logloss:0.68255\n",
      "[15]\tvalidation_0-logloss:0.68245\n",
      "[16]\tvalidation_0-logloss:0.68237\n",
      "[17]\tvalidation_0-logloss:0.68232\n",
      "[18]\tvalidation_0-logloss:0.68228\n",
      "[19]\tvalidation_0-logloss:0.68224\n",
      "[20]\tvalidation_0-logloss:0.68222\n",
      "[21]\tvalidation_0-logloss:0.68220\n",
      "[22]\tvalidation_0-logloss:0.68218\n",
      "[23]\tvalidation_0-logloss:0.68218\n",
      "[24]\tvalidation_0-logloss:0.68218\n",
      "[25]\tvalidation_0-logloss:0.68218\n",
      "[26]\tvalidation_0-logloss:0.68217\n",
      "[27]\tvalidation_0-logloss:0.68217\n",
      "[28]\tvalidation_0-logloss:0.68217\n",
      "[29]\tvalidation_0-logloss:0.68218\n",
      "[30]\tvalidation_0-logloss:0.68218\n",
      "[31]\tvalidation_0-logloss:0.68219\n",
      "[32]\tvalidation_0-logloss:0.68218\n",
      "[33]\tvalidation_0-logloss:0.68218\n",
      "[34]\tvalidation_0-logloss:0.68219\n",
      "[35]\tvalidation_0-logloss:0.68218\n",
      "[36]\tvalidation_0-logloss:0.68217\n",
      "[37]\tvalidation_0-logloss:0.68217\n",
      "[38]\tvalidation_0-logloss:0.68217\n",
      "[39]\tvalidation_0-logloss:0.68217\n",
      "[40]\tvalidation_0-logloss:0.68217\n",
      "[41]\tvalidation_0-logloss:0.68216\n",
      "[42]\tvalidation_0-logloss:0.68216\n",
      "[43]\tvalidation_0-logloss:0.68217\n",
      "[44]\tvalidation_0-logloss:0.68218\n",
      "[45]\tvalidation_0-logloss:0.68217\n",
      "[46]\tvalidation_0-logloss:0.68218\n",
      "[47]\tvalidation_0-logloss:0.68220\n",
      "[48]\tvalidation_0-logloss:0.68219\n",
      "[49]\tvalidation_0-logloss:0.68219\n",
      "[50]\tvalidation_0-logloss:0.68218\n",
      "\n",
      "Threshold = 0.30 | Accuracy = 0.3821\n",
      "              precision    recall  f1-score   support\n",
      "\n",
      "           0     0.7500    0.0001    0.0002    185371\n",
      "           1     0.3821    1.0000    0.5529    114629\n",
      "\n",
      "    accuracy                         0.3821    300000\n",
      "   macro avg     0.5661    0.5000    0.2765    300000\n",
      "weighted avg     0.6094    0.3821    0.2114    300000\n",
      "\n",
      "Confusion Matrix:\n",
      " [[    15 185356]\n",
      " [     5 114624]]\n",
      "\n",
      "Threshold = 0.50 | Accuracy = 0.5686\n",
      "              precision    recall  f1-score   support\n",
      "\n",
      "           0     0.6870    0.5546    0.6137    185371\n",
      "           1     0.4509    0.5914    0.5117    114629\n",
      "\n",
      "    accuracy                         0.5686    300000\n",
      "   macro avg     0.5689    0.5730    0.5627    300000\n",
      "weighted avg     0.5968    0.5686    0.5747    300000\n",
      "\n",
      "Confusion Matrix:\n",
      " [[102801  82570]\n",
      " [ 46835  67794]]\n",
      "\n",
      "Threshold = 0.70 | Accuracy = 0.6179\n",
      "              precision    recall  f1-score   support\n",
      "\n",
      "           0     0.6179    1.0000    0.7638    185371\n",
      "           1     0.5000    0.0000    0.0000    114629\n",
      "\n",
      "    accuracy                         0.6179    300000\n",
      "   macro avg     0.5590    0.5000    0.3819    300000\n",
      "weighted avg     0.5729    0.6179    0.4720    300000\n",
      "\n",
      "Confusion Matrix:\n",
      " [[185370      1]\n",
      " [114628      1]]\n",
      "\n",
      "XGBoost training complete.\n",
      "Best iteration (based on early stopping): 41\n"
     ]
    },
    {
     "data": {
      "image/png": "[encoded data removed]",
      "text/plain": [
       "<Figure size 700x500 with 1 Axes>"
      ]
     },
     "metadata": {},
     "output_type": "display_data"
    },
    {
     "name": "stdout",
     "output_type": "stream",
     "text": [
      "\n",
      "Precision-Recall AUC = 0.4352\n"
     ]
    }
   ],
   "source": [
    "# ======================================================================\n",
    "# CELL 7.2: Define Final XGBoost Model\n",
    "# ======================================================================\n",
    "model = XGBClassifier(\n",
    "    **best_xgb_params,  # unpack the best combination found\n",
    "    eval_metric='logloss',\n",
    "    use_label_encoder=False,\n",
    "    early_stopping_rounds=10,   # still keep early stopping if you like\n",
    "    random_state=42\n",
    ")\n",
    "\n",
    "# ======================================================================\n",
    "# CELL 8: Training (Early Stopping + eval_set)\n",
    "# ======================================================================\n",
    "eval_set = [(X_test_scaled, y_test)]\n",
    "\n",
    "model.fit(\n",
    "    X_train_res,\n",
    "    y_train_res,\n",
    "    eval_set=eval_set,\n",
    "    verbose=True\n",
    ")\n",
    "\n",
    "# ======================================================================\n",
    "# CELL 9: Evaluate at multiple thresholds\n",
    "# ======================================================================\n",
    "y_pred_prob = model.predict_proba(X_test_scaled)[:, 1]  # Probability of class=1\n",
    "\n",
    "def evaluate_threshold(thresh):\n",
    "    y_pred_t = (y_pred_prob >= thresh).astype(int)\n",
    "    acc = (y_pred_t == y_test).mean()\n",
    "    print(f\"\\nThreshold = {thresh:.2f} | Accuracy = {acc:.4f}\")\n",
    "    print(classification_report(y_test, y_pred_t, digits=4))\n",
    "    print(\"Confusion Matrix:\\n\", confusion_matrix(y_test, y_pred_t))\n",
    "\n",
    "for t in [0.3, 0.5, 0.7]:\n",
    "    evaluate_threshold(t)\n",
    "\n",
    "print(\"\\nXGBoost training complete.\")\n",
    "if hasattr(model, 'best_iteration') and model.best_iteration is not None:\n",
    "    print(f\"Best iteration (based on early stopping): {model.best_iteration}\")\n",
    "\n",
    "# ======================================================================\n",
    "# CELL 9.1: Plot Precision-Recall Curve\n",
    "# ======================================================================\n",
    "import matplotlib.pyplot as plt\n",
    "\n",
    "precision, recall, thresholds = precision_recall_curve(y_test, y_pred_prob)\n",
    "pr_auc = auc(recall, precision)\n",
    "\n",
    "plt.figure(figsize=(7, 5))\n",
    "plt.plot(recall, precision, color='blue', linewidth=2, label=f'PR AUC = {pr_auc:.4f}')\n",
    "plt.title(\"Precision-Recall Curve (Fraud=1)\")\n",
    "plt.xlabel(\"Recall\")\n",
    "plt.ylabel(\"Precision\")\n",
    "plt.legend()\n",
    "plt.grid(True)\n",
    "plt.show()\n",
    "\n",
    "print(f\"\\nPrecision-Recall AUC = {pr_auc:.4f}\")\n"
   ]
  },
  {
   "cell_type": "code",
   "execution_count": 17,
   "metadata": {},
   "outputs": [
    {
     "name": "stdout",
     "output_type": "stream",
     "text": [
      "[0]\tvalidation_0-logloss:0.69103\n",
      "[1]\tvalidation_0-logloss:0.68932\n",
      "[2]\tvalidation_0-logloss:0.68793\n",
      "[3]\tvalidation_0-logloss:0.68680\n",
      "[4]\tvalidation_0-logloss:0.68590\n"
     ]
    },
    {
     "name": "stderr",
     "output_type": "stream",
     "text": [
      "/Users/harshil/miniconda3/envs/ml_env/lib/python3.11/site-packages/xgboost/core.py:158: UserWarning: [16:35:25] WARNING: /Users/runner/work/xgboost/xgboost/src/learner.cc:740: \n",
      "Parameters: { \"use_label_encoder\" } are not used.\n",
      "\n",
      "  warnings.warn(smsg, UserWarning)\n"
     ]
    },
    {
     "name": "stdout",
     "output_type": "stream",
     "text": [
      "[5]\tvalidation_0-logloss:0.68517\n",
      "[6]\tvalidation_0-logloss:0.68459\n",
      "[7]\tvalidation_0-logloss:0.68410\n",
      "[8]\tvalidation_0-logloss:0.68372\n",
      "[9]\tvalidation_0-logloss:0.68341\n",
      "[10]\tvalidation_0-logloss:0.68314\n",
      "[11]\tvalidation_0-logloss:0.68293\n",
      "[12]\tvalidation_0-logloss:0.68276\n",
      "[13]\tvalidation_0-logloss:0.68264\n",
      "[14]\tvalidation_0-logloss:0.68255\n",
      "[15]\tvalidation_0-logloss:0.68245\n",
      "[16]\tvalidation_0-logloss:0.68237\n",
      "[17]\tvalidation_0-logloss:0.68232\n",
      "[18]\tvalidation_0-logloss:0.68228\n",
      "[19]\tvalidation_0-logloss:0.68224\n",
      "[20]\tvalidation_0-logloss:0.68222\n",
      "[21]\tvalidation_0-logloss:0.68220\n",
      "[22]\tvalidation_0-logloss:0.68218\n",
      "[23]\tvalidation_0-logloss:0.68218\n",
      "[24]\tvalidation_0-logloss:0.68218\n",
      "[25]\tvalidation_0-logloss:0.68218\n",
      "[26]\tvalidation_0-logloss:0.68217\n",
      "[27]\tvalidation_0-logloss:0.68217\n",
      "[28]\tvalidation_0-logloss:0.68217\n",
      "[29]\tvalidation_0-logloss:0.68218\n",
      "[30]\tvalidation_0-logloss:0.68218\n",
      "[31]\tvalidation_0-logloss:0.68219\n",
      "[32]\tvalidation_0-logloss:0.68218\n",
      "[33]\tvalidation_0-logloss:0.68218\n",
      "[34]\tvalidation_0-logloss:0.68219\n",
      "[35]\tvalidation_0-logloss:0.68218\n",
      "[36]\tvalidation_0-logloss:0.68217\n",
      "[37]\tvalidation_0-logloss:0.68217\n",
      "[38]\tvalidation_0-logloss:0.68217\n",
      "[39]\tvalidation_0-logloss:0.68217\n",
      "[40]\tvalidation_0-logloss:0.68217\n",
      "[41]\tvalidation_0-logloss:0.68216\n",
      "[42]\tvalidation_0-logloss:0.68216\n",
      "[43]\tvalidation_0-logloss:0.68217\n",
      "[44]\tvalidation_0-logloss:0.68218\n",
      "[45]\tvalidation_0-logloss:0.68217\n",
      "[46]\tvalidation_0-logloss:0.68218\n",
      "[47]\tvalidation_0-logloss:0.68220\n",
      "[48]\tvalidation_0-logloss:0.68219\n",
      "[49]\tvalidation_0-logloss:0.68219\n",
      "[50]\tvalidation_0-logloss:0.68218\n"
     ]
    },
    {
     "data": {
      "text/html": [
       "<style>#sk-container-id-1 {\n",
       "  /* Definition of color scheme common for light and dark mode */\n",
       "  --sklearn-color-text: black;\n",
       "  --sklearn-color-line: gray;\n",
       "  /* Definition of color scheme for unfitted estimators */\n",
       "  --sklearn-color-unfitted-level-0: #fff5e6;\n",
       "  --sklearn-color-unfitted-level-1: #f6e4d2;\n",
       "  --sklearn-color-unfitted-level-2: #ffe0b3;\n",
       "  --sklearn-color-unfitted-level-3: chocolate;\n",
       "  /* Definition of color scheme for fitted estimators */\n",
       "  --sklearn-color-fitted-level-0: #f0f8ff;\n",
       "  --sklearn-color-fitted-level-1: #d4ebff;\n",
       "  --sklearn-color-fitted-level-2: #b3dbfd;\n",
       "  --sklearn-color-fitted-level-3: cornflowerblue;\n",
       "\n",
       "  /* Specific color for light theme */\n",
       "  --sklearn-color-text-on-default-background: var(--sg-text-color, var(--theme-code-foreground, var(--jp-content-font-color1, black)));\n",
       "  --sklearn-color-background: var(--sg-background-color, var(--theme-background, var(--jp-layout-color0, white)));\n",
       "  --sklearn-color-border-box: var(--sg-text-color, var(--theme-code-foreground, var(--jp-content-font-color1, black)));\n",
       "  --sklearn-color-icon: #696969;\n",
       "\n",
       "  @media (prefers-color-scheme: dark) {\n",
       "    /* Redefinition of color scheme for dark theme */\n",
       "    --sklearn-color-text-on-default-background: var(--sg-text-color, var(--theme-code-foreground, var(--jp-content-font-color1, white)));\n",
       "    --sklearn-color-background: var(--sg-background-color, var(--theme-background, var(--jp-layout-color0, #111)));\n",
       "    --sklearn-color-border-box: var(--sg-text-color, var(--theme-code-foreground, var(--jp-content-font-color1, white)));\n",
       "    --sklearn-color-icon: #878787;\n",
       "  }\n",
       "}\n",
       "\n",
       "#sk-container-id-1 {\n",
       "  color: var(--sklearn-color-text);\n",
       "}\n",
       "\n",
       "#sk-container-id-1 pre {\n",
       "  padding: 0;\n",
       "}\n",
       "\n",
       "#sk-container-id-1 input.sk-hidden--visually {\n",
       "  border: 0;\n",
       "  clip: rect(1px 1px 1px 1px);\n",
       "  clip: rect(1px, 1px, 1px, 1px);\n",
       "  height: 1px;\n",
       "  margin: -1px;\n",
       "  overflow: hidden;\n",
       "  padding: 0;\n",
       "  position: absolute;\n",
       "  width: 1px;\n",
       "}\n",
       "\n",
       "#sk-container-id-1 div.sk-dashed-wrapped {\n",
       "  border: 1px dashed var(--sklearn-color-line);\n",
       "  margin: 0 0.4em 0.5em 0.4em;\n",
       "  box-sizing: border-box;\n",
       "  padding-bottom: 0.4em;\n",
       "  background-color: var(--sklearn-color-background);\n",
       "}\n",
       "\n",
       "#sk-container-id-1 div.sk-container {\n",
       "  /* jupyter's `normalize.less` sets `[hidden] { display: none; }`\n",
       "     but bootstrap.min.css set `[hidden] { display: none !important; }`\n",
       "     so we also need the `!important` here to be able to override the\n",
       "     default hidden behavior on the sphinx rendered scikit-learn.org.\n",
       "     See: https://github.com/scikit-learn/scikit-learn/issues/21755 */\n",
       "  display: inline-block !important;\n",
       "  position: relative;\n",
       "}\n",
       "\n",
       "#sk-container-id-1 div.sk-text-repr-fallback {\n",
       "  display: none;\n",
       "}\n",
       "\n",
       "div.sk-parallel-item,\n",
       "div.sk-serial,\n",
       "div.sk-item {\n",
       "  /* draw centered vertical line to link estimators */\n",
       "  background-image: linear-gradient(var(--sklearn-color-text-on-default-background), var(--sklearn-color-text-on-default-background));\n",
       "  background-size: 2px 100%;\n",
       "  background-repeat: no-repeat;\n",
       "  background-position: center center;\n",
       "}\n",
       "\n",
       "/* Parallel-specific style estimator block */\n",
       "\n",
       "#sk-container-id-1 div.sk-parallel-item::after {\n",
       "  content: \"\";\n",
       "  width: 100%;\n",
       "  border-bottom: 2px solid var(--sklearn-color-text-on-default-background);\n",
       "  flex-grow: 1;\n",
       "}\n",
       "\n",
       "#sk-container-id-1 div.sk-parallel {\n",
       "  display: flex;\n",
       "  align-items: stretch;\n",
       "  justify-content: center;\n",
       "  background-color: var(--sklearn-color-background);\n",
       "  position: relative;\n",
       "}\n",
       "\n",
       "#sk-container-id-1 div.sk-parallel-item {\n",
       "  display: flex;\n",
       "  flex-direction: column;\n",
       "}\n",
       "\n",
       "#sk-container-id-1 div.sk-parallel-item:first-child::after {\n",
       "  align-self: flex-end;\n",
       "  width: 50%;\n",
       "}\n",
       "\n",
       "#sk-container-id-1 div.sk-parallel-item:last-child::after {\n",
       "  align-self: flex-start;\n",
       "  width: 50%;\n",
       "}\n",
       "\n",
       "#sk-container-id-1 div.sk-parallel-item:only-child::after {\n",
       "  width: 0;\n",
       "}\n",
       "\n",
       "/* Serial-specific style estimator block */\n",
       "\n",
       "#sk-container-id-1 div.sk-serial {\n",
       "  display: flex;\n",
       "  flex-direction: column;\n",
       "  align-items: center;\n",
       "  background-color: var(--sklearn-color-background);\n",
       "  padding-right: 1em;\n",
       "  padding-left: 1em;\n",
       "}\n",
       "\n",
       "\n",
       "/* Toggleable style: style used for estimator/Pipeline/ColumnTransformer box that is\n",
       "clickable and can be expanded/collapsed.\n",
       "- Pipeline and ColumnTransformer use this feature and define the default style\n",
       "- Estimators will overwrite some part of the style using the `sk-estimator` class\n",
       "*/\n",
       "\n",
       "/* Pipeline and ColumnTransformer style (default) */\n",
       "\n",
       "#sk-container-id-1 div.sk-toggleable {\n",
       "  /* Default theme specific background. It is overwritten whether we have a\n",
       "  specific estimator or a Pipeline/ColumnTransformer */\n",
       "  background-color: var(--sklearn-color-background);\n",
       "}\n",
       "\n",
       "/* Toggleable label */\n",
       "#sk-container-id-1 label.sk-toggleable__label {\n",
       "  cursor: pointer;\n",
       "  display: block;\n",
       "  width: 100%;\n",
       "  margin-bottom: 0;\n",
       "  padding: 0.5em;\n",
       "  box-sizing: border-box;\n",
       "  text-align: center;\n",
       "}\n",
       "\n",
       "#sk-container-id-1 label.sk-toggleable__label-arrow:before {\n",
       "  /* Arrow on the left of the label */\n",
       "  content: \"▸\";\n",
       "  float: left;\n",
       "  margin-right: 0.25em;\n",
       "  color: var(--sklearn-color-icon);\n",
       "}\n",
       "\n",
       "#sk-container-id-1 label.sk-toggleable__label-arrow:hover:before {\n",
       "  color: var(--sklearn-color-text);\n",
       "}\n",
       "\n",
       "/* Toggleable content - dropdown */\n",
       "\n",
       "#sk-container-id-1 div.sk-toggleable__content {\n",
       "  max-height: 0;\n",
       "  max-width: 0;\n",
       "  overflow: hidden;\n",
       "  text-align: left;\n",
       "  /* unfitted */\n",
       "  background-color: var(--sklearn-color-unfitted-level-0);\n",
       "}\n",
       "\n",
       "#sk-container-id-1 div.sk-toggleable__content.fitted {\n",
       "  /* fitted */\n",
       "  background-color: var(--sklearn-color-fitted-level-0);\n",
       "}\n",
       "\n",
       "#sk-container-id-1 div.sk-toggleable__content pre {\n",
       "  margin: 0.2em;\n",
       "  border-radius: 0.25em;\n",
       "  color: var(--sklearn-color-text);\n",
       "  /* unfitted */\n",
       "  background-color: var(--sklearn-color-unfitted-level-0);\n",
       "}\n",
       "\n",
       "#sk-container-id-1 div.sk-toggleable__content.fitted pre {\n",
       "  /* unfitted */\n",
       "  background-color: var(--sklearn-color-fitted-level-0);\n",
       "}\n",
       "\n",
       "#sk-container-id-1 input.sk-toggleable__control:checked~div.sk-toggleable__content {\n",
       "  /* Expand drop-down */\n",
       "  max-height: 200px;\n",
       "  max-width: 100%;\n",
       "  overflow: auto;\n",
       "}\n",
       "\n",
       "#sk-container-id-1 input.sk-toggleable__control:checked~label.sk-toggleable__label-arrow:before {\n",
       "  content: \"▾\";\n",
       "}\n",
       "\n",
       "/* Pipeline/ColumnTransformer-specific style */\n",
       "\n",
       "#sk-container-id-1 div.sk-label input.sk-toggleable__control:checked~label.sk-toggleable__label {\n",
       "  color: var(--sklearn-color-text);\n",
       "  background-color: var(--sklearn-color-unfitted-level-2);\n",
       "}\n",
       "\n",
       "#sk-container-id-1 div.sk-label.fitted input.sk-toggleable__control:checked~label.sk-toggleable__label {\n",
       "  background-color: var(--sklearn-color-fitted-level-2);\n",
       "}\n",
       "\n",
       "/* Estimator-specific style */\n",
       "\n",
       "/* Colorize estimator box */\n",
       "#sk-container-id-1 div.sk-estimator input.sk-toggleable__control:checked~label.sk-toggleable__label {\n",
       "  /* unfitted */\n",
       "  background-color: var(--sklearn-color-unfitted-level-2);\n",
       "}\n",
       "\n",
       "#sk-container-id-1 div.sk-estimator.fitted input.sk-toggleable__control:checked~label.sk-toggleable__label {\n",
       "  /* fitted */\n",
       "  background-color: var(--sklearn-color-fitted-level-2);\n",
       "}\n",
       "\n",
       "#sk-container-id-1 div.sk-label label.sk-toggleable__label,\n",
       "#sk-container-id-1 div.sk-label label {\n",
       "  /* The background is the default theme color */\n",
       "  color: var(--sklearn-color-text-on-default-background);\n",
       "}\n",
       "\n",
       "/* On hover, darken the color of the background */\n",
       "#sk-container-id-1 div.sk-label:hover label.sk-toggleable__label {\n",
       "  color: var(--sklearn-color-text);\n",
       "  background-color: var(--sklearn-color-unfitted-level-2);\n",
       "}\n",
       "\n",
       "/* Label box, darken color on hover, fitted */\n",
       "#sk-container-id-1 div.sk-label.fitted:hover label.sk-toggleable__label.fitted {\n",
       "  color: var(--sklearn-color-text);\n",
       "  background-color: var(--sklearn-color-fitted-level-2);\n",
       "}\n",
       "\n",
       "/* Estimator label */\n",
       "\n",
       "#sk-container-id-1 div.sk-label label {\n",
       "  font-family: monospace;\n",
       "  font-weight: bold;\n",
       "  display: inline-block;\n",
       "  line-height: 1.2em;\n",
       "}\n",
       "\n",
       "#sk-container-id-1 div.sk-label-container {\n",
       "  text-align: center;\n",
       "}\n",
       "\n",
       "/* Estimator-specific */\n",
       "#sk-container-id-1 div.sk-estimator {\n",
       "  font-family: monospace;\n",
       "  border: 1px dotted var(--sklearn-color-border-box);\n",
       "  border-radius: 0.25em;\n",
       "  box-sizing: border-box;\n",
       "  margin-bottom: 0.5em;\n",
       "  /* unfitted */\n",
       "  background-color: var(--sklearn-color-unfitted-level-0);\n",
       "}\n",
       "\n",
       "#sk-container-id-1 div.sk-estimator.fitted {\n",
       "  /* fitted */\n",
       "  background-color: var(--sklearn-color-fitted-level-0);\n",
       "}\n",
       "\n",
       "/* on hover */\n",
       "#sk-container-id-1 div.sk-estimator:hover {\n",
       "  /* unfitted */\n",
       "  background-color: var(--sklearn-color-unfitted-level-2);\n",
       "}\n",
       "\n",
       "#sk-container-id-1 div.sk-estimator.fitted:hover {\n",
       "  /* fitted */\n",
       "  background-color: var(--sklearn-color-fitted-level-2);\n",
       "}\n",
       "\n",
       "/* Specification for estimator info (e.g. \"i\" and \"?\") */\n",
       "\n",
       "/* Common style for \"i\" and \"?\" */\n",
       "\n",
       ".sk-estimator-doc-link,\n",
       "a:link.sk-estimator-doc-link,\n",
       "a:visited.sk-estimator-doc-link {\n",
       "  float: right;\n",
       "  font-size: smaller;\n",
       "  line-height: 1em;\n",
       "  font-family: monospace;\n",
       "  background-color: var(--sklearn-color-background);\n",
       "  border-radius: 1em;\n",
       "  height: 1em;\n",
       "  width: 1em;\n",
       "  text-decoration: none !important;\n",
       "  margin-left: 1ex;\n",
       "  /* unfitted */\n",
       "  border: var(--sklearn-color-unfitted-level-1) 1pt solid;\n",
       "  color: var(--sklearn-color-unfitted-level-1);\n",
       "}\n",
       "\n",
       ".sk-estimator-doc-link.fitted,\n",
       "a:link.sk-estimator-doc-link.fitted,\n",
       "a:visited.sk-estimator-doc-link.fitted {\n",
       "  /* fitted */\n",
       "  border: var(--sklearn-color-fitted-level-1) 1pt solid;\n",
       "  color: var(--sklearn-color-fitted-level-1);\n",
       "}\n",
       "\n",
       "/* On hover */\n",
       "div.sk-estimator:hover .sk-estimator-doc-link:hover,\n",
       ".sk-estimator-doc-link:hover,\n",
       "div.sk-label-container:hover .sk-estimator-doc-link:hover,\n",
       ".sk-estimator-doc-link:hover {\n",
       "  /* unfitted */\n",
       "  background-color: var(--sklearn-color-unfitted-level-3);\n",
       "  color: var(--sklearn-color-background);\n",
       "  text-decoration: none;\n",
       "}\n",
       "\n",
       "div.sk-estimator.fitted:hover .sk-estimator-doc-link.fitted:hover,\n",
       ".sk-estimator-doc-link.fitted:hover,\n",
       "div.sk-label-container:hover .sk-estimator-doc-link.fitted:hover,\n",
       ".sk-estimator-doc-link.fitted:hover {\n",
       "  /* fitted */\n",
       "  background-color: var(--sklearn-color-fitted-level-3);\n",
       "  color: var(--sklearn-color-background);\n",
       "  text-decoration: none;\n",
       "}\n",
       "\n",
       "/* Span, style for the box shown on hovering the info icon */\n",
       ".sk-estimator-doc-link span {\n",
       "  display: none;\n",
       "  z-index: 9999;\n",
       "  position: relative;\n",
       "  font-weight: normal;\n",
       "  right: .2ex;\n",
       "  padding: .5ex;\n",
       "  margin: .5ex;\n",
       "  width: min-content;\n",
       "  min-width: 20ex;\n",
       "  max-width: 50ex;\n",
       "  color: var(--sklearn-color-text);\n",
       "  box-shadow: 2pt 2pt 4pt #999;\n",
       "  /* unfitted */\n",
       "  background: var(--sklearn-color-unfitted-level-0);\n",
       "  border: .5pt solid var(--sklearn-color-unfitted-level-3);\n",
       "}\n",
       "\n",
       ".sk-estimator-doc-link.fitted span {\n",
       "  /* fitted */\n",
       "  background: var(--sklearn-color-fitted-level-0);\n",
       "  border: var(--sklearn-color-fitted-level-3);\n",
       "}\n",
       "\n",
       ".sk-estimator-doc-link:hover span {\n",
       "  display: block;\n",
       "}\n",
       "\n",
       "/* \"?\"-specific style due to the `<a>` HTML tag */\n",
       "\n",
       "#sk-container-id-1 a.estimator_doc_link {\n",
       "  float: right;\n",
       "  font-size: 1rem;\n",
       "  line-height: 1em;\n",
       "  font-family: monospace;\n",
       "  background-color: var(--sklearn-color-background);\n",
       "  border-radius: 1rem;\n",
       "  height: 1rem;\n",
       "  width: 1rem;\n",
       "  text-decoration: none;\n",
       "  /* unfitted */\n",
       "  color: var(--sklearn-color-unfitted-level-1);\n",
       "  border: var(--sklearn-color-unfitted-level-1) 1pt solid;\n",
       "}\n",
       "\n",
       "#sk-container-id-1 a.estimator_doc_link.fitted {\n",
       "  /* fitted */\n",
       "  border: var(--sklearn-color-fitted-level-1) 1pt solid;\n",
       "  color: var(--sklearn-color-fitted-level-1);\n",
       "}\n",
       "\n",
       "/* On hover */\n",
       "#sk-container-id-1 a.estimator_doc_link:hover {\n",
       "  /* unfitted */\n",
       "  background-color: var(--sklearn-color-unfitted-level-3);\n",
       "  color: var(--sklearn-color-background);\n",
       "  text-decoration: none;\n",
       "}\n",
       "\n",
       "#sk-container-id-1 a.estimator_doc_link.fitted:hover {\n",
       "  /* fitted */\n",
       "  background-color: var(--sklearn-color-fitted-level-3);\n",
       "}\n",
       "</style><div id=\"sk-container-id-1\" class=\"sk-top-container\"><div class=\"sk-text-repr-fallback\"><pre>XGBClassifier(base_score=None, booster=None, callbacks=None,\n",
       "              colsample_bylevel=None, colsample_bynode=None,\n",
       "              colsample_bytree=1.0, device=None, early_stopping_rounds=10,\n",
       "              enable_categorical=False, eval_metric=&#x27;logloss&#x27;,\n",
       "              feature_types=None, gamma=None, grow_policy=None,\n",
       "              importance_type=None, interaction_constraints=None,\n",
       "              learning_rate=0.1, max_bin=None, max_cat_threshold=None,\n",
       "              max_cat_to_onehot=None, max_delta_step=None, max_depth=8,\n",
       "              max_leaves=None, min_child_weight=None, missing=nan,\n",
       "              monotone_constraints=None, multi_strategy=None, n_estimators=500,\n",
       "              n_jobs=None, num_parallel_tree=None, random_state=42, ...)</pre><b>In a Jupyter environment, please rerun this cell to show the HTML representation or trust the notebook. <br />On GitHub, the HTML representation is unable to render, please try loading this page with nbviewer.org.</b></div><div class=\"sk-container\" hidden><div class=\"sk-item\"><div class=\"sk-estimator fitted sk-toggleable\"><input class=\"sk-toggleable__control sk-hidden--visually\" id=\"sk-estimator-id-1\" type=\"checkbox\" checked><label for=\"sk-estimator-id-1\" class=\"sk-toggleable__label fitted sk-toggleable__label-arrow fitted\">&nbsp;XGBClassifier<span class=\"sk-estimator-doc-link fitted\">i<span>Fitted</span></span></label><div class=\"sk-toggleable__content fitted\"><pre>XGBClassifier(base_score=None, booster=None, callbacks=None,\n",
       "              colsample_bylevel=None, colsample_bynode=None,\n",
       "              colsample_bytree=1.0, device=None, early_stopping_rounds=10,\n",
       "              enable_categorical=False, eval_metric=&#x27;logloss&#x27;,\n",
       "              feature_types=None, gamma=None, grow_policy=None,\n",
       "              importance_type=None, interaction_constraints=None,\n",
       "              learning_rate=0.1, max_bin=None, max_cat_threshold=None,\n",
       "              max_cat_to_onehot=None, max_delta_step=None, max_depth=8,\n",
       "              max_leaves=None, min_child_weight=None, missing=nan,\n",
       "              monotone_constraints=None, multi_strategy=None, n_estimators=500,\n",
       "              n_jobs=None, num_parallel_tree=None, random_state=42, ...)</pre></div> </div></div></div></div>"
      ],
      "text/plain": [
       "XGBClassifier(base_score=None, booster=None, callbacks=None,\n",
       "              colsample_bylevel=None, colsample_bynode=None,\n",
       "              colsample_bytree=1.0, device=None, early_stopping_rounds=10,\n",
       "              enable_categorical=False, eval_metric='logloss',\n",
       "              feature_types=None, gamma=None, grow_policy=None,\n",
       "              importance_type=None, interaction_constraints=None,\n",
       "              learning_rate=0.1, max_bin=None, max_cat_threshold=None,\n",
       "              max_cat_to_onehot=None, max_delta_step=None, max_depth=8,\n",
       "              max_leaves=None, min_child_weight=None, missing=nan,\n",
       "              monotone_constraints=None, multi_strategy=None, n_estimators=500,\n",
       "              n_jobs=None, num_parallel_tree=None, random_state=42, ...)"
      ]
     },
     "execution_count": 17,
     "metadata": {},
     "output_type": "execute_result"
    }
   ],
   "source": [
    "# ======================================================================\n",
    "# CELL 8: Training (Early Stopping + eval_set)\n",
    "# ======================================================================\n",
    "# We'll manually handle early stopping in a second step, or pass it here:\n",
    "eval_set = [(X_test_scaled, y_test)]\n",
    "\n",
    "model.fit(\n",
    "    X_train_res,\n",
    "    y_train_res,\n",
    "    eval_set=eval_set,\n",
    "    verbose=True\n",
    ")"
   ]
  },
  {
   "cell_type": "code",
   "execution_count": 18,
   "metadata": {},
   "outputs": [
    {
     "name": "stdout",
     "output_type": "stream",
     "text": [
      "\n",
      "Threshold = 0.30 | Accuracy = 0.3821 | AP(Precision) = 0.3821\n",
      "              precision    recall  f1-score   support\n",
      "\n",
      "           0     0.7500    0.0001    0.0002    185371\n",
      "           1     0.3821    1.0000    0.5529    114629\n",
      "\n",
      "    accuracy                         0.3821    300000\n",
      "   macro avg     0.5661    0.5000    0.2765    300000\n",
      "weighted avg     0.6094    0.3821    0.2114    300000\n",
      "\n",
      "Confusion Matrix:\n",
      " [[    15 185356]\n",
      " [     5 114624]]\n",
      "\n",
      "Threshold = 0.40 | Accuracy = 0.3867 | AP(Precision) = 0.3829\n",
      "              precision    recall  f1-score   support\n",
      "\n",
      "           0     0.6833    0.0139    0.0272    185371\n",
      "           1     0.3829    0.9896    0.5522    114629\n",
      "\n",
      "    accuracy                         0.3867    300000\n",
      "   macro avg     0.5331    0.5017    0.2897    300000\n",
      "weighted avg     0.5685    0.3867    0.2278    300000\n",
      "\n",
      "Confusion Matrix:\n",
      " [[  2570 182801]\n",
      " [  1191 113438]]\n",
      "\n",
      "Threshold = 0.50 | Accuracy = 0.5686 | AP(Precision) = 0.4228\n",
      "              precision    recall  f1-score   support\n",
      "\n",
      "           0     0.6870    0.5546    0.6137    185371\n",
      "           1     0.4509    0.5914    0.5117    114629\n",
      "\n",
      "    accuracy                         0.5686    300000\n",
      "   macro avg     0.5689    0.5730    0.5627    300000\n",
      "weighted avg     0.5968    0.5686    0.5747    300000\n",
      "\n",
      "Confusion Matrix:\n",
      " [[102801  82570]\n",
      " [ 46835  67794]]\n",
      "\n",
      "Threshold = 0.60 | Accuracy = 0.6173 | AP(Precision) = 0.3830\n",
      "              precision    recall  f1-score   support\n",
      "\n",
      "           0     0.6187    0.9924    0.7622    185371\n",
      "           1     0.4682    0.0108    0.0211    114629\n",
      "\n",
      "    accuracy                         0.6173    300000\n",
      "   macro avg     0.5434    0.5016    0.3916    300000\n",
      "weighted avg     0.5612    0.6173    0.4790    300000\n",
      "\n",
      "Confusion Matrix:\n",
      " [[183968   1403]\n",
      " [113394   1235]]\n",
      "\n",
      "Threshold = 0.70 | Accuracy = 0.6179 | AP(Precision) = 0.3821\n",
      "              precision    recall  f1-score   support\n",
      "\n",
      "           0     0.6179    1.0000    0.7638    185371\n",
      "           1     0.5000    0.0000    0.0000    114629\n",
      "\n",
      "    accuracy                         0.6179    300000\n",
      "   macro avg     0.5590    0.5000    0.3819    300000\n",
      "weighted avg     0.5729    0.6179    0.4720    300000\n",
      "\n",
      "Confusion Matrix:\n",
      " [[185370      1]\n",
      " [114628      1]]\n",
      "\n",
      "XGBoost training complete.\n",
      "Best iteration (based on early stopping): 41\n"
     ]
    }
   ],
   "source": [
    "# ======================================================================\n",
    "# CELL 9: Evaluate at multiple thresholds\n",
    "# ======================================================================\n",
    "y_pred_prob = model.predict_proba(X_test_scaled)[:, 1]\n",
    "\n",
    "def evaluate_threshold(thresh):\n",
    "    y_pred_t = (y_pred_prob >= thresh).astype(int)\n",
    "    acc = (y_pred_t == y_test).mean()\n",
    "    ap_score = average_precision_score(y_test, y_pred_t)  # AP on binary preds\n",
    "    print(f\"\\nThreshold = {thresh:.2f} | Accuracy = {acc:.4f} | AP(Precision) = {ap_score:.4f}\")\n",
    "    print(classification_report(y_test, y_pred_t, digits=4))\n",
    "    print(\"Confusion Matrix:\\n\", confusion_matrix(y_test, y_pred_t))\n",
    "\n",
    "# Test a broader set of thresholds, e.g. 0.3, 0.4, 0.5, 0.6, 0.7\n",
    "for t in [0.3, 0.4, 0.5, 0.6, 0.7]:\n",
    "    evaluate_threshold(t)\n",
    "\n",
    "print(\"\\nXGBoost training complete.\")\n",
    "if hasattr(model, 'best_iteration') and model.best_iteration is not None:\n",
    "    print(f\"Best iteration (based on early stopping): {model.best_iteration}\")"
   ]
  },
  {
   "cell_type": "code",
   "execution_count": 19,
   "metadata": {},
   "outputs": [
    {
     "name": "stdout",
     "output_type": "stream",
     "text": [
      "\n",
      "Overall Precision-Recall AUC on probabilities = 0.4352\n"
     ]
    },
    {
     "data": {
      "image/png": "[encoded data removed]",
      "text/plain": [
       "<Figure size 700x500 with 1 Axes>"
      ]
     },
     "metadata": {},
     "output_type": "display_data"
    }
   ],
   "source": [
    "# ======================================================================\n",
    "# CELL 9.1: Plot or Print Precision-Recall Metrics\n",
    "# ======================================================================\n",
    "import matplotlib.pyplot as plt\n",
    "\n",
    "precision, recall, thresholds = precision_recall_curve(y_test, y_pred_prob)\n",
    "pr_auc = auc(recall, precision)\n",
    "print(f\"\\nOverall Precision-Recall AUC on probabilities = {pr_auc:.4f}\")\n",
    "\n",
    "plt.figure(figsize=(7, 5))\n",
    "plt.plot(recall, precision, color='blue', linewidth=2, label=f'PR AUC = {pr_auc:.4f}')\n",
    "plt.title(\"Precision-Recall Curve (Fraud=1)\")\n",
    "plt.xlabel(\"Recall\")\n",
    "plt.ylabel(\"Precision\")\n",
    "plt.legend()\n",
    "plt.grid(True)\n",
    "plt.show()\n"
   ]
  }
 ],
 "metadata": {
  "kernelspec": {
   "display_name": "ml_env",
   "language": "python",
   "name": "python3"
  },
  "language_info": {
   "codemirror_mode": {
    "name": "ipython",
    "version": 3
   },
   "file_extension": ".py",
   "mimetype": "text/x-python",
   "name": "python",
   "nbconvert_exporter": "python",
   "pygments_lexer": "ipython3",
   "version": "3.11.11"
  }
 },
 "nbformat": 4,
 "nbformat_minor": 2
}
