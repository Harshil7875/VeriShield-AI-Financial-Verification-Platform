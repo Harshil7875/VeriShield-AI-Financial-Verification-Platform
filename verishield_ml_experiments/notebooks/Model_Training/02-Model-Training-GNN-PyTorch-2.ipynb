{
 "cells": [
  {
   "cell_type": "markdown",
   "metadata": {},
   "source": [
    "# Notebook: 02-Model-Training-GNN-PyTorch.ipynb\n",
    "\n",
    "**Purpose**:\n",
    "- Load .npy-based node features/labels + adjacency from \"processed_gnn/\"\n",
    "- Build a PyTorch Geometric HeteroData for \"user\" & \"business\" node sets\n",
    "- Define a 2-layer GNN (HeteroConv + SAGEConv) for user-fraud classification (0=legit,1=fraud)\n",
    "- Train using user train_mask, track val_mask accuracy, and evaluate test_mask accuracy.\n",
    "\n",
    "**Key Steps**:\n",
    "1. Load .npy arrays (features, labels, edges, masks).\n",
    "2. Construct a PyG HeteroData object with user and business node sets.\n",
    "3. Define a GNN model with two rounds of message passing.\n",
    "4. Train the model for several epochs, only backprop on train_mask users.\n",
    "5. Report validation accuracy per epoch and final test accuracy."
   ]
  },
  {
   "cell_type": "code",
   "execution_count": 1,
   "metadata": {},
   "outputs": [
    {
     "name": "stdout",
     "output_type": "stream",
     "text": [
      "Using device: cpu\n"
     ]
    }
   ],
   "source": [
    "# ---------------------------------------------------------------------------------------\n",
    "# Cell 1: Imports & Setup\n",
    "# ---------------------------------------------------------------------------------------\n",
    "import os\n",
    "import json\n",
    "import numpy as np\n",
    "\n",
    "import torch\n",
    "import torch.nn.functional as F\n",
    "from torch_geometric.data import HeteroData\n",
    "from torch_geometric.nn import HeteroConv, SAGEConv, Linear\n",
    "\n",
    "# Check GPU availability\n",
    "device = torch.device('cuda' if torch.cuda.is_available() else 'cpu')\n",
    "print(\"Using device:\", device)\n"
   ]
  },
  {
   "cell_type": "code",
   "execution_count": 2,
   "metadata": {},
   "outputs": [
    {
     "name": "stdout",
     "output_type": "stream",
     "text": [
      "Processed GNN data at: /Users/harshil/Development/GitHub_Repos/VeriShield-AI-Financial-Verification-Platform/verishield_ml_experiments/data_generators/data-huge/medium_fraud/processed_gnn\n",
      "HIDDEN_DIM=64, LR=0.001, EPOCHS=5, STEPS_PER_EPOCH=10\n"
     ]
    }
   ],
   "source": [
    "# ---------------------------------------------------------------------------------------\n",
    "# Cell 2: Configuration\n",
    "# ---------------------------------------------------------------------------------------\n",
    "# Adjust this path to point to your 'processed_gnn/' directory\n",
    "PROCESSED_DIR = (\n",
    "    \"/Users/harshil/Development/\"\n",
    "    \"GitHub_Repos/VeriShield-AI-Financial-Verification-Platform/\"\n",
    "    \"verishield_ml_experiments/data_generators/data-huge/medium_fraud/processed_gnn\"\n",
    ")\n",
    "\n",
    "HIDDEN_DIM = 64\n",
    "LEARNING_RATE = 1e-3\n",
    "EPOCHS = 10\n",
    "STEPS_PER_EPOCH = 120  # If you want multiple updates per epoch\n",
    "PRINT_EVERY = 1       # Print validation accuracy every epoch\n",
    "\n",
    "print(f\"Processed GNN data at: {PROCESSED_DIR}\")\n",
    "print(f\"HIDDEN_DIM={HIDDEN_DIM}, LR={LEARNING_RATE}, EPOCHS={EPOCHS}, STEPS_PER_EPOCH={STEPS_PER_EPOCH}\")"
   ]
  },
  {
   "cell_type": "code",
   "execution_count": 3,
   "metadata": {},
   "outputs": [
    {
     "name": "stdout",
     "output_type": "stream",
     "text": [
      "Loaded user_features.npy, shape=(843973, 7), dtype=float32\n",
      "Loaded user_labels.npy, shape=(843973,), dtype=int64\n",
      "Loaded biz_features.npy, shape=(121992, 3), dtype=float32\n",
      "Loaded biz_labels.npy, shape=(121992,), dtype=int64\n",
      "Loaded edge_user_user.npy, shape=(2, 84430), dtype=int64\n",
      "Loaded edge_user_biz.npy, shape=(2, 1852705), dtype=int64\n",
      "Loaded train_mask_users.npy, shape=(843973,), dtype=bool\n",
      "Loaded val_mask_users.npy, shape=(843973,), dtype=bool\n",
      "Loaded test_mask_users.npy, shape=(843973,), dtype=bool\n",
      "\n",
      "metadata.json contents:\n",
      "  scenario: medium_fraud\n",
      "  num_users: 843973\n",
      "  num_businesses: 121992\n",
      "  user_feature_cols: ['segment_code', 'is_ring_leader', 'ip_count_log', 'phone_susp', 'email_susp', 'country_watch', 'burst_signup']\n",
      "  biz_feature_cols: ['watchlist_regctry', 'susp_name_flag', 'biz_age_log']\n",
      "  do_split: True\n",
      "  train_ratio: 0.7\n",
      "  val_ratio: 0.15\n",
      "  test_ratio: 0.15\n",
      "  SINGLE_TASK_USER_ONLY: True\n",
      "  edges_user_user_count: 84430\n",
      "  edges_user_biz_count: 1852705\n"
     ]
    }
   ],
   "source": [
    "# ---------------------------------------------------------------------------------------\n",
    "# Cell 3: Loading .npy Arrays\n",
    "# ---------------------------------------------------------------------------------------\n",
    "def load_npy(filename):\n",
    "    path = os.path.join(PROCESSED_DIR, filename)\n",
    "    arr = np.load(path)\n",
    "    print(f\"Loaded {filename}, shape={arr.shape}, dtype={arr.dtype}\")\n",
    "    return arr\n",
    "\n",
    "user_features    = torch.from_numpy(load_npy(\"user_features.npy\")).float()\n",
    "user_labels      = torch.from_numpy(load_npy(\"user_labels.npy\")).long()\n",
    "biz_features     = torch.from_numpy(load_npy(\"biz_features.npy\")).float()\n",
    "biz_labels       = torch.from_numpy(load_npy(\"biz_labels.npy\")).long()  # optional if multi-task\n",
    "\n",
    "edge_user_user   = torch.from_numpy(load_npy(\"edge_user_user.npy\")).long()  # shape [2, E_uu]\n",
    "edge_user_biz    = torch.from_numpy(load_npy(\"edge_user_biz.npy\")).long()   # shape [2, E_ub]\n",
    "\n",
    "train_mask_users = torch.from_numpy(load_npy(\"train_mask_users.npy\")).bool()\n",
    "val_mask_users   = torch.from_numpy(load_npy(\"val_mask_users.npy\")).bool()\n",
    "test_mask_users  = torch.from_numpy(load_npy(\"test_mask_users.npy\")).bool()\n",
    "\n",
    "# Optionally load metadata.json\n",
    "meta_path = os.path.join(PROCESSED_DIR, \"metadata.json\")\n",
    "if os.path.isfile(meta_path):\n",
    "    with open(meta_path, \"r\") as f:\n",
    "        metadata = json.load(f)\n",
    "    print(\"\\nmetadata.json contents:\")\n",
    "    for k,v in metadata.items():\n",
    "        print(f\"  {k}: {v}\")\n"
   ]
  },
  {
   "cell_type": "code",
   "execution_count": 4,
   "metadata": {},
   "outputs": [
    {
     "name": "stdout",
     "output_type": "stream",
     "text": [
      "HeteroData object created with the following node_types and edge_types:\n",
      "Node types: ['user', 'business']\n",
      "Edge types: [('user', 'user_user', 'user'), ('user', 'user_business', 'business')]\n"
     ]
    }
   ],
   "source": [
    "# ---------------------------------------------------------------------------------------\n",
    "# Cell 4: Build a HeteroData Graph\n",
    "# ---------------------------------------------------------------------------------------\n",
    "data = HeteroData()\n",
    "\n",
    "# \"user\" node set\n",
    "data['user'].x = user_features           # shape [num_users, feat_dim]\n",
    "data['user'].y = user_labels            # shape [num_users]\n",
    "data['user'].train_mask = train_mask_users\n",
    "data['user'].val_mask   = val_mask_users\n",
    "data['user'].test_mask  = test_mask_users\n",
    "\n",
    "# \"business\" node set\n",
    "data['business'].x = biz_features\n",
    "data['business'].y = biz_labels  # if you want multi-task, else can omit\n",
    "\n",
    "# Edges: user->user\n",
    "data[('user','user_user','user')].edge_index = edge_user_user\n",
    "\n",
    "# Edges: user->business\n",
    "data[('user','user_business','business')].edge_index = edge_user_biz\n",
    "\n",
    "print(\"HeteroData object created with the following node_types and edge_types:\")\n",
    "print(\"Node types:\", list(data.node_types))\n",
    "print(\"Edge types:\", list(data.edge_types))\n",
    "\n",
    "# Move entire data to GPU (if available)\n",
    "data = data.to(device)\n"
   ]
  },
  {
   "cell_type": "code",
   "execution_count": 5,
   "metadata": {},
   "outputs": [
    {
     "name": "stdout",
     "output_type": "stream",
     "text": [
      "UserFraudGNN(\n",
      "  (conv1): HeteroConv(num_relations=2)\n",
      "  (conv2): HeteroConv(num_relations=2)\n",
      "  (user_lin): Linear(64, 2, bias=True)\n",
      ")\n"
     ]
    }
   ],
   "source": [
    "# ---------------------------------------------------------------------------------------\n",
    "# Cell 5: Define a 2-layer GNN Model (HeteroConv + SAGEConv)\n",
    "# ---------------------------------------------------------------------------------------\n",
    "class UserFraudGNN(torch.nn.Module):\n",
    "    def __init__(self, hidden_dim, out_dim=2):\n",
    "        super().__init__()\n",
    "        # We'll define two \"rounds\" of HeteroConv\n",
    "        # Each relation gets a SAGEConv (or any other PyG conv you like)\n",
    "        self.conv1 = HeteroConv({\n",
    "            ('user', 'user_user', 'user'): SAGEConv((-1, -1), hidden_dim),\n",
    "            ('user', 'user_business', 'business'): SAGEConv((-1, -1), hidden_dim),\n",
    "        }, aggr='mean')\n",
    "\n",
    "        self.conv2 = HeteroConv({\n",
    "            ('user', 'user_user', 'user'): SAGEConv((-1, -1), hidden_dim),\n",
    "            ('user', 'user_business', 'business'): SAGEConv((-1, -1), hidden_dim),\n",
    "        }, aggr='mean')\n",
    "\n",
    "        # We'll read out from 'user' embeddings for classification\n",
    "        self.user_lin = Linear(hidden_dim, out_dim)\n",
    "\n",
    "    def forward(self, x_dict, edge_index_dict):\n",
    "        # 1st round of message passing\n",
    "        x_dict = self.conv1(x_dict, edge_index_dict)\n",
    "        # apply relu\n",
    "        for node_type, x in x_dict.items():\n",
    "            x_dict[node_type] = F.relu(x)\n",
    "\n",
    "        # 2nd round\n",
    "        x_dict = self.conv2(x_dict, edge_index_dict)\n",
    "        for node_type, x in x_dict.items():\n",
    "            x_dict[node_type] = F.relu(x)\n",
    "\n",
    "        # read out user embeddings => shape [num_users, hidden_dim]\n",
    "        user_emb = x_dict['user']\n",
    "        # final linear layer => shape [num_users, 2] for classification\n",
    "        user_logits = self.user_lin(user_emb)\n",
    "        return user_logits\n",
    "\n",
    "# Instantiate the model, move to device\n",
    "model = UserFraudGNN(HIDDEN_DIM, out_dim=2).to(device)\n",
    "print(model)\n"
   ]
  },
  {
   "cell_type": "code",
   "execution_count": 6,
   "metadata": {},
   "outputs": [],
   "source": [
    "# ---------------------------------------------------------------------------------------\n",
    "# Cell 6: Training Setup (Optimizer, Loss, train/eval functions)\n",
    "# ---------------------------------------------------------------------------------------\n",
    "optimizer = torch.optim.Adam(model.parameters(), lr=LEARNING_RATE)\n",
    "\n",
    "def train_step():\n",
    "    \"\"\"One step of training on the entire graph (masked to train users).\"\"\"\n",
    "    model.train()\n",
    "    optimizer.zero_grad()\n",
    "\n",
    "    # forward pass: returns [num_users, 2] logits\n",
    "    user_logits = model(data.x_dict, data.edge_index_dict)\n",
    "\n",
    "    # gather train mask & labels\n",
    "    train_mask = data['user'].train_mask\n",
    "    masked_logits = user_logits[train_mask]\n",
    "    masked_labels = data['user'].y[train_mask]\n",
    "\n",
    "    # cross-entropy\n",
    "    loss = F.cross_entropy(masked_logits, masked_labels)\n",
    "    loss.backward()\n",
    "    optimizer.step()\n",
    "    return float(loss)\n",
    "\n",
    "@torch.no_grad()\n",
    "def evaluate(mask_name='val_mask'):\n",
    "    \"\"\"Compute accuracy on either val or test mask (mask_name: 'val_mask' or 'test_mask').\"\"\"\n",
    "    model.eval()\n",
    "    user_logits = model(data.x_dict, data.edge_index_dict)\n",
    "\n",
    "    mask = data['user'][mask_name]\n",
    "    logits_masked = user_logits[mask]\n",
    "    labels_masked = data['user'].y[mask]\n",
    "\n",
    "    preds = logits_masked.argmax(dim=-1)\n",
    "    correct = (preds == labels_masked).sum()\n",
    "    acc = correct / mask.sum()\n",
    "    return float(acc)\n"
   ]
  },
  {
   "cell_type": "code",
   "execution_count": 7,
   "metadata": {},
   "outputs": [
    {
     "name": "stdout",
     "output_type": "stream",
     "text": [
      "Epoch 1/5 => loss=0.6558, val_acc=0.6780\n",
      "Epoch 2/5 => loss=0.6392, val_acc=0.6780\n",
      "Epoch 3/5 => loss=0.6310, val_acc=0.6780\n",
      "Epoch 4/5 => loss=0.6252, val_acc=0.6780\n",
      "Epoch 5/5 => loss=0.6209, val_acc=0.6786\n",
      "\n",
      "Final Test Accuracy: 0.6749\n"
     ]
    }
   ],
   "source": [
    "# ---------------------------------------------------------------------------------------\n",
    "# Cell 7: Main Training Loop\n",
    "# ---------------------------------------------------------------------------------------\n",
    "steps_per_epoch = STEPS_PER_EPOCH\n",
    "\n",
    "for epoch in range(1, EPOCHS+1):\n",
    "    avg_loss = 0.0\n",
    "    for step in range(steps_per_epoch):\n",
    "        loss_val = train_step()\n",
    "        avg_loss += loss_val\n",
    "\n",
    "    avg_loss /= steps_per_epoch\n",
    "    val_acc = evaluate('val_mask')\n",
    "\n",
    "    if epoch % PRINT_EVERY == 0:\n",
    "        print(f\"Epoch {epoch}/{EPOCHS} => loss={avg_loss:.4f}, val_acc={val_acc:.4f}\")\n",
    "\n",
    "test_acc = evaluate('test_mask')\n",
    "print(f\"\\nFinal Test Accuracy: {test_acc:.4f}\")\n"
   ]
  },
  {
   "cell_type": "code",
   "execution_count": 8,
   "metadata": {},
   "outputs": [
    {
     "name": "stdout",
     "output_type": "stream",
     "text": [
      "\n",
      "Done!\n",
      "We've replicated a 2-layer GNN approach in PyTorch Geometric.\n",
      "- Built a HeteroData graph with user & business node sets, user->user & user->business edges.\n",
      "- Trained a user-fraud classifier, applying train/val/test masks to user nodes.\n",
      "- Printed final test accuracy.\n",
      "\n"
     ]
    }
   ],
   "source": [
    "# ---------------------------------------------------------------------------------------\n",
    "# Cell 8: Wrap-Up\n",
    "# ---------------------------------------------------------------------------------------\n",
    "print(\"\"\"\n",
    "Done!\n",
    "We've replicated a 2-layer GNN approach in PyTorch Geometric.\n",
    "- Built a HeteroData graph with user & business node sets, user->user & user->business edges.\n",
    "- Trained a user-fraud classifier, applying train/val/test masks to user nodes.\n",
    "- Printed final test accuracy.\n",
    "\"\"\")\n"
   ]
  }
 ],
 "metadata": {
  "kernelspec": {
   "display_name": "torch-env-1",
   "language": "python",
   "name": "python3"
  },
  "language_info": {
   "codemirror_mode": {
    "name": "ipython",
    "version": 3
   },
   "file_extension": ".py",
   "mimetype": "text/x-python",
   "name": "python",
   "nbconvert_exporter": "python",
   "pygments_lexer": "ipython3",
   "version": "3.11.11"
  }
 },
 "nbformat": 4,
 "nbformat_minor": 4
}
